{
 "cells": [
  {
   "cell_type": "code",
   "execution_count": 4,
   "metadata": {},
   "outputs": [],
   "source": [
    "import pandas as pd\n",
    "\n",
    "\n",
    "df = pd.read_csv(r'../joined_dataset.csv')\n",
    "\n",
    "#PREVENT DUPLICATE CSVs\n",
    "# #remove duplicates by title and ISBNs\n",
    "# def remove_duplicate_books(top_books):\n",
    "#     duplicate_isbns = set()\n",
    "#     duplicate_titles = set()\n",
    "#     unique_books = []\n",
    "    \n",
    "#     for book in top_books:\n",
    "#         isbn, title = book[0], book[1]\n",
    "        \n",
    "#         if isbn not in duplicate_isbns and title not in duplicate_titles:\n",
    "#             duplicate_isbns.add(isbn)\n",
    "#             duplicate_titles.add(title)\n",
    "#             unique_books.append(book)\n",
    "    \n",
    "#     return unique_books\n",
    "\n",
    "# def get_similar_users_books(book_isbn, df):\n",
    "#     #Get users who rated the selected book highly\n",
    "#     similar_users = df[(df['ISBN'] == book_isbn) & (df['Book-Rating'] >= 8)]['User-ID'].unique()\n",
    "\n",
    "#     #Get 20 books rated by similar users\n",
    "#     top_books = []\n",
    "#     for user in similar_users:\n",
    "#         user_books = df[df['User-ID'] == user].sort_values(by='Book-Rating', ascending=False).head(20)\n",
    "#         top_books.extend(user_books[['ISBN', 'Book-Title', 'Book-Author']].values.tolist())\n",
    "\n",
    "#     #remove duplicates by title and ISBNs\n",
    "#     unique_books = remove_duplicate_books(top_books)\n",
    "\n",
    "#     return unique_books \n"
   ]
  },
  {
   "cell_type": "code",
   "execution_count": 18,
   "metadata": {},
   "outputs": [
    {
     "name": "stdout",
     "output_type": "stream",
     "text": [
      "26\n",
      "Book: HAMLET, Author: WILLIAM SHAKESPEARE\n",
      "Book: ISLAND OF THE SEQUINED LOVE NUN, Author: CHRISTOPHER MOORE\n",
      "Book: SATI, Author: CHRISTOPHER PIKE\n",
      "Book: THE COLOR PURPLE, Author: ALICE WALKER\n",
      "Book: STORYVILLE, Author: LOIS BATTLE\n",
      "Book: HAUNTED HEARTLAND, Author: BETH SCOTT\n",
      "Book: COMPANIONS OF THE NIGHT (LAUREL-LEAF BOOKS), Author: VIVIAN VANDE VELDE\n",
      "Book: ORANGES ARE NOT THE ONLY FRUIT, Author: JEANETTE WINTERSON\n",
      "Book: ROMEO AND JULIET (THE PELICAN SHAKESPEARE), Author: WILLIAM SHAKESPEARE\n",
      "Book: THE ISLAND OF LOST MAPS : A TRUE STORY OF CARTOGRAPHIC CRIME, Author: MILES HARVEY\n",
      "Book: LOSING JESSICA, Author: ROBBY DEBOER\n",
      "Book: LILITH (HEELEY, D. A. DARKNESS AND LIGHT, BK. 1.), Author: D. A. HEELEY\n",
      "Book: DREAMS IN THE GOLDEN COUNTRY: THE DIARY OF ZIPPORAH FELDMAN, A JEWISH IMMIGRANT GIRL, NEW YORK CITY, 1903 (DEAR AMERICA), Author: KATHRYN LASKY\n",
      "Book: THE SECOND BEND IN THE RIVER (POINT), Author: ANN RINALDI\n",
      "Book: RENASCENCE, AND OTHER POEMS (DOVER THRIFT EDITIONS), Author: EDNA ST. VINCENT MILLAY\n",
      "Book: THRONE OF ZEUS, Author: DEBORAH LERME GOODMAN\n",
      "Book: THE NEW BOOK OF GODDESSES &AMP; HEROINES, Author: PATRICIA MONAGHAN\n",
      "Book: THE DJINN IN THE NIGHTINGALE'S EYE: FIVE FAIRY STORIES, Author: A. S. BYATT\n",
      "Book: MACBETH (THE PELICAN SHAKESPEARE), Author: WILLIAM SHAKESPEARE\n",
      "Book: A MIDSUMMER NIGHT'S DREAM (THE PELICAN SHAKESPEARE), Author: WILLIAM SHAKESPEARE\n",
      "Book: RED DRAGON, Author: THOMAS HARRIS\n",
      "Book: HAMLET, PRINCE OF DENMARK (PELICAN SHAKESPEARE), Author: WILLIAM SHAKESPEARE\n",
      "Book: INVISIBLE CITIES (A HARVEST/HBJ BOOK), Author: ITALO CALVINO\n",
      "Book: THE MEMBER OF THE WEDDING, Author: CARSON MCCULLERS\n",
      "Book: KATE VAIDEN, Author: REYNOLDS PRICE\n",
      "Book: THE ETERNAL MOMENT, AND OTHER STORIES: AND OTHER STORIES (A HARVEST BOOK, HB 180), Author: E. M. FORSTER\n"
     ]
    }
   ],
   "source": [
    "# #made csv for hyperion, death on the nile, and romeo and juliet\n",
    "# book_title = 'Romeo and Juliet'\n",
    "\n",
    "\n",
    "# book_data = df[df['Book-Title'].str.contains(book_title, case=False, na=False)].head(1)\n",
    "\n",
    "# if book_data.empty:\n",
    "#     print(f\"Book '{book_title}' not found!\")\n",
    "# else:  \n",
    "\n",
    "#     book_isbn = book_data['ISBN'].values[0]\n",
    "\n",
    "#     #get unique books that are rated by similar users\n",
    "#     unique_books = get_similar_users_books(book_isbn, df)\n",
    "\n",
    "#     books_to_recommend_me = pd.DataFrame(unique_books, columns=['ISBN', 'Book-Title', 'Book-Author'])\n",
    "\n",
    "#     #add empty column to manually input book rating\n",
    "#     books_to_recommend_me['Book-Rating'] = ''\n",
    "\n",
    "#     print(len(unique_books))\n",
    "\n",
    "#     for book in unique_books:\n",
    "#         print(f\"Book: {book[1]}, Author: {book[2]}\")\n",
    "        \n",
    "#     books_to_recommend_me.to_csv(r'./accuracy_check/romeo_and_juliet_books.csv', index=False)\n",
    "\n"
   ]
  },
  {
   "cell_type": "code",
   "execution_count": 5,
   "metadata": {},
   "outputs": [],
   "source": [
    "my_hyperion_ratings = pd.read_csv('hyperion_books.csv')\n",
    "my_death_on_the_nile_ratings = pd.read_csv('death_on_the_nile_books.csv')\n",
    "my_romeo_and_juliet_ratings = pd.read_csv('romeo_and_juliet_books.csv')\n",
    "\n",
    "#combine csv files into one\n",
    "my_ratings = pd.concat([my_hyperion_ratings, my_death_on_the_nile_ratings, my_romeo_and_juliet_ratings])\n",
    "\n",
    "#add user-id\n",
    "if 'User-ID' not in my_ratings.columns:\n",
    "    my_ratings['User-ID'] = 999999\n",
    "\n",
    "\n",
    "#add my ratings to joined_dataset\n",
    "df2 = pd.concat([df, my_ratings])\n",
    "df2.to_csv('joined_dataset_with_me.csv', index=False)\n"
   ]
  },
  {
   "cell_type": "code",
   "execution_count": 6,
   "metadata": {},
   "outputs": [
    {
     "name": "stdout",
     "output_type": "stream",
     "text": [
      "Evaluating RMSE, MAE of algorithm SVD on 5 split(s).\n",
      "\n",
      "                  Fold 1  Fold 2  Fold 3  Fold 4  Fold 5  Mean    Std     \n",
      "RMSE (testset)    1.6355  1.6361  1.6415  1.6322  1.6366  1.6364  0.0030  \n",
      "MAE (testset)     1.2615  1.2644  1.2642  1.2617  1.2645  1.2633  0.0014  \n",
      "Fit time          6.66    6.84    6.69    6.71    6.75    6.73    0.06    \n",
      "Test time         0.51    0.51    0.45    0.52    0.85    0.57    0.14    \n"
     ]
    }
   ],
   "source": [
    "from surprise import Dataset, Reader, SVD, accuracy\n",
    "from surprise.model_selection import train_test_split, cross_validate\n",
    "\n",
    "df2 = pd.read_csv('joined_dataset_with_me.csv')\n",
    "reader = Reader(rating_scale=(1, 10))\n",
    "\n",
    "#load updated dataframe into surprise dataset object\n",
    "data = Dataset.load_from_df(df2[['User-ID', 'ISBN', 'Book-Rating']], reader)\n",
    "\n",
    "trainset, testset = train_test_split(data, test_size=0.25)\n",
    "\n",
    "model2 = SVD()\n",
    "model2.fit(trainset)\n",
    "\n",
    "cv_results = cross_validate(model2, data, measures=['RMSE', 'MAE'], cv=5, verbose=True)\n",
    "\n"
   ]
  },
  {
   "cell_type": "code",
   "execution_count": 8,
   "metadata": {},
   "outputs": [
    {
     "name": "stdout",
     "output_type": "stream",
     "text": [
      "78\n",
      "RMSE: 1.0587\n",
      "MAE:  0.6416\n"
     ]
    }
   ],
   "source": [
    "#get predictions for testset and seperate my predictions\n",
    "#may need to run previous module multiple times to ensure 999999 is in testset\n",
    "predictions = model2.test(testset)\n",
    "my_predictions = [pred for pred in predictions if pred.uid == 999999]\n",
    "\n",
    "print(len(my_predictions))\n",
    "\n",
    "#calc rmse and mae for my predictions\n",
    "my_rmse = accuracy.rmse(my_predictions)\n",
    "my_mae = accuracy.mae(my_predictions)\n",
    "\n",
    "#78 out of 228 predictions evaluated"
   ]
  }
 ],
 "metadata": {
  "kernelspec": {
   "display_name": "myenv",
   "language": "python",
   "name": "python3"
  },
  "language_info": {
   "codemirror_mode": {
    "name": "ipython",
    "version": 3
   },
   "file_extension": ".py",
   "mimetype": "text/x-python",
   "name": "python",
   "nbconvert_exporter": "python",
   "pygments_lexer": "ipython3",
   "version": "3.12.4"
  }
 },
 "nbformat": 4,
 "nbformat_minor": 2
}
