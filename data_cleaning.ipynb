{
 "cells": [
  {
   "cell_type": "code",
   "execution_count": 1,
   "id": "c0dc2563-b889-4a9e-b564-d8a0c7a2ee4f",
   "metadata": {
    "tags": []
   },
   "outputs": [
    {
     "name": "stdout",
     "output_type": "stream",
     "text": [
      "         ISBN                                         Book-Title  \\\n",
      "0  0195153448                                Classical Mythology   \n",
      "1  0002005018                                       Clara Callan   \n",
      "2  0060973129                               Decision in Normandy   \n",
      "3  0374157065  Flu: The Story of the Great Influenza Pandemic...   \n",
      "4  0393045218                             The Mummies of Urumchi   \n",
      "\n",
      "            Book-Author Year-Of-Publication                   Publisher  \\\n",
      "0    Mark P. O. Morford                2002     Oxford University Press   \n",
      "1  Richard Bruce Wright                2001       HarperFlamingo Canada   \n",
      "2          Carlo D'Este                1991             HarperPerennial   \n",
      "3      Gina Bari Kolata                1999        Farrar Straus Giroux   \n",
      "4       E. J. W. Barber                1999  W. W. Norton &amp; Company   \n",
      "\n",
      "                                         Image-URL-S  \\\n",
      "0  http://images.amazon.com/images/P/0195153448.0...   \n",
      "1  http://images.amazon.com/images/P/0002005018.0...   \n",
      "2  http://images.amazon.com/images/P/0060973129.0...   \n",
      "3  http://images.amazon.com/images/P/0374157065.0...   \n",
      "4  http://images.amazon.com/images/P/0393045218.0...   \n",
      "\n",
      "                                         Image-URL-M  \\\n",
      "0  http://images.amazon.com/images/P/0195153448.0...   \n",
      "1  http://images.amazon.com/images/P/0002005018.0...   \n",
      "2  http://images.amazon.com/images/P/0060973129.0...   \n",
      "3  http://images.amazon.com/images/P/0374157065.0...   \n",
      "4  http://images.amazon.com/images/P/0393045218.0...   \n",
      "\n",
      "                                         Image-URL-L  \n",
      "0  http://images.amazon.com/images/P/0195153448.0...  \n",
      "1  http://images.amazon.com/images/P/0002005018.0...  \n",
      "2  http://images.amazon.com/images/P/0060973129.0...  \n",
      "3  http://images.amazon.com/images/P/0374157065.0...  \n",
      "4  http://images.amazon.com/images/P/0393045218.0...  \n",
      "   User-ID        ISBN  Book-Rating\n",
      "0   276725  034545104X            0\n",
      "1   276726  0155061224            5\n",
      "2   276727  0446520802            0\n",
      "3   276729  052165615X            3\n",
      "4   276729  0521795028            6\n"
     ]
    }
   ],
   "source": [
    "import pandas as pd\n",
    "\n",
    "books = pd.read_csv('Books.csv', low_memory=False)\n",
    "ratings = pd.read_csv('Ratings.csv', low_memory=False)\n",
    "\n",
    "print(books.head())\n",
    "print(ratings.head())\n"
   ]
  },
  {
   "cell_type": "code",
   "execution_count": 2,
   "id": "eaba889d-5ebd-46e1-b438-04baabd8b6c2",
   "metadata": {
    "tags": []
   },
   "outputs": [
    {
     "name": "stdout",
     "output_type": "stream",
     "text": [
      "<class 'pandas.core.frame.DataFrame'>\n",
      "RangeIndex: 271360 entries, 0 to 271359\n",
      "Data columns (total 8 columns):\n",
      " #   Column               Non-Null Count   Dtype \n",
      "---  ------               --------------   ----- \n",
      " 0   ISBN                 271360 non-null  object\n",
      " 1   Book-Title           271360 non-null  object\n",
      " 2   Book-Author          271358 non-null  object\n",
      " 3   Year-Of-Publication  271360 non-null  object\n",
      " 4   Publisher            271358 non-null  object\n",
      " 5   Image-URL-S          271360 non-null  object\n",
      " 6   Image-URL-M          271360 non-null  object\n",
      " 7   Image-URL-L          271357 non-null  object\n",
      "dtypes: object(8)\n",
      "memory usage: 16.6+ MB\n",
      "None\n"
     ]
    },
    {
     "data": {
      "text/html": [
       "<div>\n",
       "<style scoped>\n",
       "    .dataframe tbody tr th:only-of-type {\n",
       "        vertical-align: middle;\n",
       "    }\n",
       "\n",
       "    .dataframe tbody tr th {\n",
       "        vertical-align: top;\n",
       "    }\n",
       "\n",
       "    .dataframe thead th {\n",
       "        text-align: right;\n",
       "    }\n",
       "</style>\n",
       "<table border=\"1\" class=\"dataframe\">\n",
       "  <thead>\n",
       "    <tr style=\"text-align: right;\">\n",
       "      <th></th>\n",
       "      <th>ISBN</th>\n",
       "      <th>Book-Title</th>\n",
       "      <th>Book-Author</th>\n",
       "      <th>Year-Of-Publication</th>\n",
       "      <th>Publisher</th>\n",
       "      <th>Image-URL-S</th>\n",
       "      <th>Image-URL-M</th>\n",
       "      <th>Image-URL-L</th>\n",
       "    </tr>\n",
       "  </thead>\n",
       "  <tbody>\n",
       "    <tr>\n",
       "      <th>count</th>\n",
       "      <td>271360</td>\n",
       "      <td>271360</td>\n",
       "      <td>271358</td>\n",
       "      <td>271360</td>\n",
       "      <td>271358</td>\n",
       "      <td>271360</td>\n",
       "      <td>271360</td>\n",
       "      <td>271357</td>\n",
       "    </tr>\n",
       "    <tr>\n",
       "      <th>unique</th>\n",
       "      <td>271360</td>\n",
       "      <td>242135</td>\n",
       "      <td>102022</td>\n",
       "      <td>118</td>\n",
       "      <td>16807</td>\n",
       "      <td>271044</td>\n",
       "      <td>271044</td>\n",
       "      <td>271041</td>\n",
       "    </tr>\n",
       "    <tr>\n",
       "      <th>top</th>\n",
       "      <td>020130998X</td>\n",
       "      <td>Selected Poems</td>\n",
       "      <td>Agatha Christie</td>\n",
       "      <td>2002</td>\n",
       "      <td>Harlequin</td>\n",
       "      <td>http://images.amazon.com/images/P/155936078X.0...</td>\n",
       "      <td>http://images.amazon.com/images/P/155936078X.0...</td>\n",
       "      <td>http://images.amazon.com/images/P/155936078X.0...</td>\n",
       "    </tr>\n",
       "    <tr>\n",
       "      <th>freq</th>\n",
       "      <td>1</td>\n",
       "      <td>27</td>\n",
       "      <td>632</td>\n",
       "      <td>17627</td>\n",
       "      <td>7535</td>\n",
       "      <td>2</td>\n",
       "      <td>2</td>\n",
       "      <td>2</td>\n",
       "    </tr>\n",
       "  </tbody>\n",
       "</table>\n",
       "</div>"
      ],
      "text/plain": [
       "              ISBN      Book-Title      Book-Author Year-Of-Publication  \\\n",
       "count       271360          271360           271358              271360   \n",
       "unique      271360          242135           102022                 118   \n",
       "top     020130998X  Selected Poems  Agatha Christie                2002   \n",
       "freq             1              27              632               17627   \n",
       "\n",
       "        Publisher                                        Image-URL-S  \\\n",
       "count      271358                                             271360   \n",
       "unique      16807                                             271044   \n",
       "top     Harlequin  http://images.amazon.com/images/P/155936078X.0...   \n",
       "freq         7535                                                  2   \n",
       "\n",
       "                                              Image-URL-M  \\\n",
       "count                                              271360   \n",
       "unique                                             271044   \n",
       "top     http://images.amazon.com/images/P/155936078X.0...   \n",
       "freq                                                    2   \n",
       "\n",
       "                                              Image-URL-L  \n",
       "count                                              271357  \n",
       "unique                                             271041  \n",
       "top     http://images.amazon.com/images/P/155936078X.0...  \n",
       "freq                                                    2  "
      ]
     },
     "execution_count": 2,
     "metadata": {},
     "output_type": "execute_result"
    }
   ],
   "source": [
    "print(books.info())\n",
    "\n",
    "books.describe()\n",
    "#ISBNs shown to be unique -> freq 1, missing 2 book authors, 25 book titles aren't unique"
   ]
  },
  {
   "cell_type": "code",
   "execution_count": 3,
   "id": "84621299-56b4-4215-919c-33ad785fcfb0",
   "metadata": {
    "tags": []
   },
   "outputs": [
    {
     "name": "stdout",
     "output_type": "stream",
     "text": [
      "         ISBN           Book-Title         Book-Author\n",
      "0  0195153448  Classical Mythology  Mark P. O. Morford\n"
     ]
    }
   ],
   "source": [
    "books = books.drop(['Year-Of-Publication', 'Publisher','Image-URL-S', 'Image-URL-M', 'Image-URL-L'], axis=1)\n",
    "\n",
    "print(books.head(1))"
   ]
  },
  {
   "cell_type": "code",
   "execution_count": 4,
   "id": "5006938c-10ed-4a84-b9f3-db1dd6914921",
   "metadata": {},
   "outputs": [],
   "source": [
    "#Capitalize ISBN, Book-Title, Book-Author, Publisher\n",
    "books['ISBN']=books['ISBN'].str.upper()\n",
    "books['Book-Title']=books['Book-Title'].str.upper()\n",
    "books['Book-Author']=books['Book-Author'].str.upper()"
   ]
  },
  {
   "cell_type": "code",
   "execution_count": 5,
   "id": "b710a889-2851-467e-990b-f9b0b4be4f65",
   "metadata": {
    "tags": []
   },
   "outputs": [
    {
     "data": {
      "text/html": [
       "<div>\n",
       "<style scoped>\n",
       "    .dataframe tbody tr th:only-of-type {\n",
       "        vertical-align: middle;\n",
       "    }\n",
       "\n",
       "    .dataframe tbody tr th {\n",
       "        vertical-align: top;\n",
       "    }\n",
       "\n",
       "    .dataframe thead th {\n",
       "        text-align: right;\n",
       "    }\n",
       "</style>\n",
       "<table border=\"1\" class=\"dataframe\">\n",
       "  <thead>\n",
       "    <tr style=\"text-align: right;\">\n",
       "      <th></th>\n",
       "      <th>ISBN</th>\n",
       "      <th>Book-Title</th>\n",
       "      <th>Book-Author</th>\n",
       "    </tr>\n",
       "  </thead>\n",
       "  <tbody>\n",
       "    <tr>\n",
       "      <th>118033</th>\n",
       "      <td>0751352497</td>\n",
       "      <td>A+ QUIZ MASTERS:01 EARTH</td>\n",
       "      <td>NaN</td>\n",
       "    </tr>\n",
       "    <tr>\n",
       "      <th>187689</th>\n",
       "      <td>9627982032</td>\n",
       "      <td>THE CREDIT SUISSE GUIDE TO MANAGING YOUR PERSO...</td>\n",
       "      <td>NaN</td>\n",
       "    </tr>\n",
       "  </tbody>\n",
       "</table>\n",
       "</div>"
      ],
      "text/plain": [
       "              ISBN                                         Book-Title  \\\n",
       "118033  0751352497                           A+ QUIZ MASTERS:01 EARTH   \n",
       "187689  9627982032  THE CREDIT SUISSE GUIDE TO MANAGING YOUR PERSO...   \n",
       "\n",
       "       Book-Author  \n",
       "118033         NaN  \n",
       "187689         NaN  "
      ]
     },
     "execution_count": 5,
     "metadata": {},
     "output_type": "execute_result"
    }
   ],
   "source": [
    "books[books['Book-Author'].isna()]"
   ]
  },
  {
   "cell_type": "code",
   "execution_count": 6,
   "id": "5761a5ed-a63c-4d79-b71e-67151bb9dc90",
   "metadata": {
    "tags": []
   },
   "outputs": [
    {
     "data": {
      "text/html": [
       "<div>\n",
       "<style scoped>\n",
       "    .dataframe tbody tr th:only-of-type {\n",
       "        vertical-align: middle;\n",
       "    }\n",
       "\n",
       "    .dataframe tbody tr th {\n",
       "        vertical-align: top;\n",
       "    }\n",
       "\n",
       "    .dataframe thead th {\n",
       "        text-align: right;\n",
       "    }\n",
       "</style>\n",
       "<table border=\"1\" class=\"dataframe\">\n",
       "  <thead>\n",
       "    <tr style=\"text-align: right;\">\n",
       "      <th></th>\n",
       "      <th>ISBN</th>\n",
       "      <th>Book-Title</th>\n",
       "      <th>Book-Author</th>\n",
       "    </tr>\n",
       "  </thead>\n",
       "  <tbody>\n",
       "  </tbody>\n",
       "</table>\n",
       "</div>"
      ],
      "text/plain": [
       "Empty DataFrame\n",
       "Columns: [ISBN, Book-Title, Book-Author]\n",
       "Index: []"
      ]
     },
     "execution_count": 6,
     "metadata": {},
     "output_type": "execute_result"
    }
   ],
   "source": [
    "books.loc[118033, 'Book-Author'] = \"NONE\"\n",
    "books.loc[187689, 'Book-Author'] = 'LARISSA ANNE DOWNES'\n",
    "\n",
    "books[books['Book-Author'].isna()]"
   ]
  },
  {
   "cell_type": "code",
   "execution_count": 7,
   "id": "45826e14-518e-42e4-8711-cc4f7cc24fae",
   "metadata": {
    "tags": []
   },
   "outputs": [
    {
     "data": {
      "text/html": [
       "<div>\n",
       "<style scoped>\n",
       "    .dataframe tbody tr th:only-of-type {\n",
       "        vertical-align: middle;\n",
       "    }\n",
       "\n",
       "    .dataframe tbody tr th {\n",
       "        vertical-align: top;\n",
       "    }\n",
       "\n",
       "    .dataframe thead th {\n",
       "        text-align: right;\n",
       "    }\n",
       "</style>\n",
       "<table border=\"1\" class=\"dataframe\">\n",
       "  <thead>\n",
       "    <tr style=\"text-align: right;\">\n",
       "      <th></th>\n",
       "      <th>ISBN</th>\n",
       "      <th>Book-Title</th>\n",
       "      <th>Book-Author</th>\n",
       "    </tr>\n",
       "  </thead>\n",
       "  <tbody>\n",
       "    <tr>\n",
       "      <th>6635</th>\n",
       "      <td>002542730X</td>\n",
       "      <td>POLITICALLY CORRECT BEDTIME STORIES: MODERN TA...</td>\n",
       "      <td>JAMES FINN GARNER</td>\n",
       "    </tr>\n",
       "    <tr>\n",
       "      <th>11925</th>\n",
       "      <td>014062080X</td>\n",
       "      <td>THE SCARLET LETTER (PENGUIN POPULAR CLASSICS)</td>\n",
       "      <td>NATHANIEL HAWTHORNE</td>\n",
       "    </tr>\n",
       "    <tr>\n",
       "      <th>16298</th>\n",
       "      <td>097089726X</td>\n",
       "      <td>JASPER</td>\n",
       "      <td>MICHELLE GROCE</td>\n",
       "    </tr>\n",
       "    <tr>\n",
       "      <th>19266</th>\n",
       "      <td>039592720X</td>\n",
       "      <td>INTERPRETER OF MALADIES</td>\n",
       "      <td>JHUMPA LAHIRI</td>\n",
       "    </tr>\n",
       "    <tr>\n",
       "      <th>22339</th>\n",
       "      <td>042512164X</td>\n",
       "      <td>CAPITAL CRIMES</td>\n",
       "      <td>LAWRENCE SANDERS</td>\n",
       "    </tr>\n",
       "    <tr>\n",
       "      <th>...</th>\n",
       "      <td>...</td>\n",
       "      <td>...</td>\n",
       "      <td>...</td>\n",
       "    </tr>\n",
       "    <tr>\n",
       "      <th>267020</th>\n",
       "      <td>088404632X</td>\n",
       "      <td>DIANETICS: THE MODERN SCIENCE OF MENTAL HEALTH</td>\n",
       "      <td>L. RON HUBBARD</td>\n",
       "    </tr>\n",
       "    <tr>\n",
       "      <th>269297</th>\n",
       "      <td>055215038X</td>\n",
       "      <td>THE SLEEPER</td>\n",
       "      <td>GILLIAN WHITE</td>\n",
       "    </tr>\n",
       "    <tr>\n",
       "      <th>269552</th>\n",
       "      <td>037376099X</td>\n",
       "      <td>PATIENT NURSE  (MAN OF THE MONTH) (HARLEQUIN D...</td>\n",
       "      <td>DIANA PALMER</td>\n",
       "    </tr>\n",
       "    <tr>\n",
       "      <th>270285</th>\n",
       "      <td>189481505X</td>\n",
       "      <td>I-O</td>\n",
       "      <td>SIMON LOGAN</td>\n",
       "    </tr>\n",
       "    <tr>\n",
       "      <th>270483</th>\n",
       "      <td>039304632X</td>\n",
       "      <td>THE VOYAGE OF THE NARWHAL</td>\n",
       "      <td>ANDREA BARRETT</td>\n",
       "    </tr>\n",
       "  </tbody>\n",
       "</table>\n",
       "<p>313 rows × 3 columns</p>\n",
       "</div>"
      ],
      "text/plain": [
       "              ISBN                                         Book-Title  \\\n",
       "6635    002542730X  POLITICALLY CORRECT BEDTIME STORIES: MODERN TA...   \n",
       "11925   014062080X      THE SCARLET LETTER (PENGUIN POPULAR CLASSICS)   \n",
       "16298   097089726X                                             JASPER   \n",
       "19266   039592720X                            INTERPRETER OF MALADIES   \n",
       "22339   042512164X                                     CAPITAL CRIMES   \n",
       "...            ...                                                ...   \n",
       "267020  088404632X     DIANETICS: THE MODERN SCIENCE OF MENTAL HEALTH   \n",
       "269297  055215038X                                        THE SLEEPER   \n",
       "269552  037376099X  PATIENT NURSE  (MAN OF THE MONTH) (HARLEQUIN D...   \n",
       "270285  189481505X                                                I-O   \n",
       "270483  039304632X                          THE VOYAGE OF THE NARWHAL   \n",
       "\n",
       "                Book-Author  \n",
       "6635      JAMES FINN GARNER  \n",
       "11925   NATHANIEL HAWTHORNE  \n",
       "16298        MICHELLE GROCE  \n",
       "19266         JHUMPA LAHIRI  \n",
       "22339      LAWRENCE SANDERS  \n",
       "...                     ...  \n",
       "267020       L. RON HUBBARD  \n",
       "269297        GILLIAN WHITE  \n",
       "269552         DIANA PALMER  \n",
       "270285          SIMON LOGAN  \n",
       "270483       ANDREA BARRETT  \n",
       "\n",
       "[313 rows x 3 columns]"
      ]
     },
     "execution_count": 7,
     "metadata": {},
     "output_type": "execute_result"
    }
   ],
   "source": [
    "books[books.duplicated()]"
   ]
  },
  {
   "cell_type": "code",
   "execution_count": 8,
   "id": "c3b39f39-e76d-42f2-972a-1881fb19fdb6",
   "metadata": {
    "tags": []
   },
   "outputs": [],
   "source": [
    "#Remove duplicate rows, reset index\n",
    "books.drop_duplicates(keep=\"first\", inplace=True)\n",
    "books.reset_index(drop=True,inplace=True)   "
   ]
  },
  {
   "cell_type": "code",
   "execution_count": 9,
   "id": "a6951fa4-63f8-41a5-a9cd-7c26de9180eb",
   "metadata": {
    "tags": []
   },
   "outputs": [
    {
     "data": {
      "text/html": [
       "<div>\n",
       "<style scoped>\n",
       "    .dataframe tbody tr th:only-of-type {\n",
       "        vertical-align: middle;\n",
       "    }\n",
       "\n",
       "    .dataframe tbody tr th {\n",
       "        vertical-align: top;\n",
       "    }\n",
       "\n",
       "    .dataframe thead th {\n",
       "        text-align: right;\n",
       "    }\n",
       "</style>\n",
       "<table border=\"1\" class=\"dataframe\">\n",
       "  <thead>\n",
       "    <tr style=\"text-align: right;\">\n",
       "      <th></th>\n",
       "      <th>ISBN</th>\n",
       "      <th>Book-Title</th>\n",
       "      <th>Book-Author</th>\n",
       "    </tr>\n",
       "  </thead>\n",
       "  <tbody>\n",
       "  </tbody>\n",
       "</table>\n",
       "</div>"
      ],
      "text/plain": [
       "Empty DataFrame\n",
       "Columns: [ISBN, Book-Title, Book-Author]\n",
       "Index: []"
      ]
     },
     "execution_count": 9,
     "metadata": {},
     "output_type": "execute_result"
    }
   ],
   "source": [
    "books[books.duplicated()]"
   ]
  },
  {
   "cell_type": "code",
   "execution_count": 10,
   "id": "a2d758d6-ae43-4798-ad1f-096eac62f24e",
   "metadata": {},
   "outputs": [
    {
     "name": "stdout",
     "output_type": "stream",
     "text": [
      "   User-ID        ISBN  Book-Rating\n",
      "0   276725  034545104X            0\n",
      "1   276726  0155061224            5\n",
      "2   276727  0446520802            0\n",
      "3   276729  052165615X            3\n",
      "4   276729  0521795028            6\n",
      "<class 'pandas.core.frame.DataFrame'>\n",
      "RangeIndex: 1149780 entries, 0 to 1149779\n",
      "Data columns (total 3 columns):\n",
      " #   Column       Non-Null Count    Dtype \n",
      "---  ------       --------------    ----- \n",
      " 0   User-ID      1149780 non-null  int64 \n",
      " 1   ISBN         1149780 non-null  object\n",
      " 2   Book-Rating  1149780 non-null  int64 \n",
      "dtypes: int64(2), object(1)\n",
      "memory usage: 26.3+ MB\n"
     ]
    }
   ],
   "source": [
    "print(ratings.head())\n",
    "ratings.info()\n",
    "#No null values"
   ]
  },
  {
   "cell_type": "code",
   "execution_count": 11,
   "id": "c9d7a36e-a629-4a7c-aea2-9ca238ad0170",
   "metadata": {},
   "outputs": [
    {
     "data": {
      "text/plain": [
       "User-ID        0\n",
       "ISBN           0\n",
       "Book-Rating    0\n",
       "dtype: object"
      ]
     },
     "execution_count": 11,
     "metadata": {},
     "output_type": "execute_result"
    }
   ],
   "source": [
    "ratings[ratings.duplicated()].sum()\n",
    "#no duplicates"
   ]
  },
  {
   "cell_type": "code",
   "execution_count": 12,
   "id": "35a38ac4-fde2-46f2-9aff-9a81453b835a",
   "metadata": {},
   "outputs": [],
   "source": [
    "#create new dataset of ratings with matching ISBN in books\n",
    "ratings['ISBN']=ratings['ISBN'].str.upper()\n",
    "ratings_new = ratings[ratings['ISBN'].isin(books['ISBN'])]"
   ]
  },
  {
   "cell_type": "code",
   "execution_count": 13,
   "id": "2dd3d720-6282-4a99-994d-4483259947ad",
   "metadata": {},
   "outputs": [
    {
     "name": "stdout",
     "output_type": "stream",
     "text": [
      "(1149780, 3)\n",
      "(1031136, 3)\n"
     ]
    }
   ],
   "source": [
    "print(ratings.shape)\n",
    "print(ratings_new.shape)\n",
    "#ratings_new has less entries, use this"
   ]
  },
  {
   "cell_type": "code",
   "execution_count": 14,
   "id": "0d078ab1-394b-4769-bc98-4579e27d138c",
   "metadata": {},
   "outputs": [
    {
     "data": {
      "text/html": [
       "<div>\n",
       "<style scoped>\n",
       "    .dataframe tbody tr th:only-of-type {\n",
       "        vertical-align: middle;\n",
       "    }\n",
       "\n",
       "    .dataframe tbody tr th {\n",
       "        vertical-align: top;\n",
       "    }\n",
       "\n",
       "    .dataframe thead th {\n",
       "        text-align: right;\n",
       "    }\n",
       "</style>\n",
       "<table border=\"1\" class=\"dataframe\">\n",
       "  <thead>\n",
       "    <tr style=\"text-align: right;\">\n",
       "      <th></th>\n",
       "      <th>Book-Rating</th>\n",
       "      <th>count</th>\n",
       "    </tr>\n",
       "  </thead>\n",
       "  <tbody>\n",
       "    <tr>\n",
       "      <th>0</th>\n",
       "      <td>0</td>\n",
       "      <td>647294</td>\n",
       "    </tr>\n",
       "    <tr>\n",
       "      <th>1</th>\n",
       "      <td>8</td>\n",
       "      <td>91804</td>\n",
       "    </tr>\n",
       "    <tr>\n",
       "      <th>2</th>\n",
       "      <td>10</td>\n",
       "      <td>71225</td>\n",
       "    </tr>\n",
       "    <tr>\n",
       "      <th>3</th>\n",
       "      <td>7</td>\n",
       "      <td>66402</td>\n",
       "    </tr>\n",
       "    <tr>\n",
       "      <th>4</th>\n",
       "      <td>9</td>\n",
       "      <td>60778</td>\n",
       "    </tr>\n",
       "    <tr>\n",
       "      <th>5</th>\n",
       "      <td>5</td>\n",
       "      <td>45355</td>\n",
       "    </tr>\n",
       "    <tr>\n",
       "      <th>6</th>\n",
       "      <td>6</td>\n",
       "      <td>31687</td>\n",
       "    </tr>\n",
       "    <tr>\n",
       "      <th>7</th>\n",
       "      <td>4</td>\n",
       "      <td>7617</td>\n",
       "    </tr>\n",
       "    <tr>\n",
       "      <th>8</th>\n",
       "      <td>3</td>\n",
       "      <td>5118</td>\n",
       "    </tr>\n",
       "    <tr>\n",
       "      <th>9</th>\n",
       "      <td>2</td>\n",
       "      <td>2375</td>\n",
       "    </tr>\n",
       "    <tr>\n",
       "      <th>10</th>\n",
       "      <td>1</td>\n",
       "      <td>1481</td>\n",
       "    </tr>\n",
       "  </tbody>\n",
       "</table>\n",
       "</div>"
      ],
      "text/plain": [
       "    Book-Rating   count\n",
       "0             0  647294\n",
       "1             8   91804\n",
       "2            10   71225\n",
       "3             7   66402\n",
       "4             9   60778\n",
       "5             5   45355\n",
       "6             6   31687\n",
       "7             4    7617\n",
       "8             3    5118\n",
       "9             2    2375\n",
       "10            1    1481"
      ]
     },
     "execution_count": 14,
     "metadata": {},
     "output_type": "execute_result"
    }
   ],
   "source": [
    "ratings_new['Book-Rating'].value_counts().reset_index()\n",
    "#most ratings are zero, probably implicit rating"
   ]
  },
  {
   "cell_type": "code",
   "execution_count": 15,
   "id": "c10845f9-1183-412f-a83d-acf769ac8157",
   "metadata": {
    "tags": []
   },
   "outputs": [
    {
     "name": "stdout",
     "output_type": "stream",
     "text": [
      "(383842, 3)\n",
      "(647294, 3)\n"
     ]
    }
   ],
   "source": [
    "explicit = ratings_new[ratings_new['Book-Rating'] != 0]\n",
    "implicit = ratings_new[ratings_new['Book-Rating'] == 0]\n",
    "print(explicit.shape)\n",
    "print(implicit.shape)\n",
    "#keep explicit ratings"
   ]
  },
  {
   "cell_type": "code",
   "execution_count": 16,
   "id": "ab0e0543-dc08-44f8-87d2-8498add6701c",
   "metadata": {
    "tags": []
   },
   "outputs": [],
   "source": [
    "#merge datasets\n",
    "df = pd.merge(books, explicit, on='ISBN', how='inner')\n"
   ]
  },
  {
   "cell_type": "code",
   "execution_count": 17,
   "id": "7e9b5721-c07c-4369-af28-8e9e8e0d72c4",
   "metadata": {
    "tags": []
   },
   "outputs": [
    {
     "name": "stdout",
     "output_type": "stream",
     "text": [
      "(383892, 5)\n",
      "         ISBN    Book-Title           Book-Author  User-ID  Book-Rating\n",
      "0  0002005018  CLARA CALLAN  RICHARD BRUCE WRIGHT        8            5\n",
      "1  0002005018  CLARA CALLAN  RICHARD BRUCE WRIGHT    11676            8\n",
      "2  0002005018  CLARA CALLAN  RICHARD BRUCE WRIGHT    67544            8\n",
      "<class 'pandas.core.frame.DataFrame'>\n",
      "RangeIndex: 383892 entries, 0 to 383891\n",
      "Data columns (total 5 columns):\n",
      " #   Column       Non-Null Count   Dtype \n",
      "---  ------       --------------   ----- \n",
      " 0   ISBN         383892 non-null  object\n",
      " 1   Book-Title   383892 non-null  object\n",
      " 2   Book-Author  383892 non-null  object\n",
      " 3   User-ID      383892 non-null  int64 \n",
      " 4   Book-Rating  383892 non-null  int64 \n",
      "dtypes: int64(2), object(3)\n",
      "memory usage: 14.6+ MB\n"
     ]
    }
   ],
   "source": [
    "print(df.shape)\n",
    "print(df.head(3))\n",
    "df.info()"
   ]
  },
  {
   "cell_type": "code",
   "execution_count": 18,
   "id": "a9ecc7f7-8a44-4d21-88ae-5e68118d7804",
   "metadata": {
    "tags": []
   },
   "outputs": [],
   "source": [
    "df.to_csv('joined_dataset.csv', index=False)"
   ]
  }
 ],
 "metadata": {
  "environment": {
   "kernel": "python3",
   "name": "tf2-cpu.2-11.m124",
   "type": "gcloud",
   "uri": "us-docker.pkg.dev/deeplearning-platform-release/gcr.io/tf2-cpu.2-11:m124"
  },
  "kernelspec": {
   "display_name": "Python 3 (Local)",
   "language": "python",
   "name": "python3"
  },
  "language_info": {
   "codemirror_mode": {
    "name": "ipython",
    "version": 3
   },
   "file_extension": ".py",
   "mimetype": "text/x-python",
   "name": "python",
   "nbconvert_exporter": "python",
   "pygments_lexer": "ipython3",
   "version": "3.12.4"
  }
 },
 "nbformat": 4,
 "nbformat_minor": 5
}
