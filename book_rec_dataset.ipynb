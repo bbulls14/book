{
 "cells": [
  {
   "cell_type": "code",
   "execution_count": 30,
   "metadata": {},
   "outputs": [
    {
     "data": {
      "text/html": [
       "<div>\n",
       "<style scoped>\n",
       "    .dataframe tbody tr th:only-of-type {\n",
       "        vertical-align: middle;\n",
       "    }\n",
       "\n",
       "    .dataframe tbody tr th {\n",
       "        vertical-align: top;\n",
       "    }\n",
       "\n",
       "    .dataframe thead th {\n",
       "        text-align: right;\n",
       "    }\n",
       "</style>\n",
       "<table border=\"1\" class=\"dataframe\">\n",
       "  <thead>\n",
       "    <tr style=\"text-align: right;\">\n",
       "      <th></th>\n",
       "      <th>ISBN</th>\n",
       "      <th>Book-Title</th>\n",
       "      <th>Book-Author</th>\n",
       "      <th>Year-Of-Publication</th>\n",
       "      <th>Publisher</th>\n",
       "      <th>Image-URL-S</th>\n",
       "      <th>Image-URL-M</th>\n",
       "      <th>Image-URL-L</th>\n",
       "    </tr>\n",
       "  </thead>\n",
       "  <tbody>\n",
       "    <tr>\n",
       "      <th>0</th>\n",
       "      <td>0140301690</td>\n",
       "      <td>Alice's Adventures in Wonderland and Through t...</td>\n",
       "      <td>Lewis Carroll</td>\n",
       "      <td>2000</td>\n",
       "      <td>Puffin Books</td>\n",
       "      <td>http://images.amazon.com/images/P/0140301690.0...</td>\n",
       "      <td>http://images.amazon.com/images/P/0140301690.0...</td>\n",
       "      <td>http://images.amazon.com/images/P/0140301690.0...</td>\n",
       "    </tr>\n",
       "    <tr>\n",
       "      <th>1</th>\n",
       "      <td>0140201092</td>\n",
       "      <td>Outline of European Architecture (Pelican S.)</td>\n",
       "      <td>Nikolaus Pevsner</td>\n",
       "      <td>1950</td>\n",
       "      <td>Penguin USA</td>\n",
       "      <td>http://images.amazon.com/images/P/0140201092.0...</td>\n",
       "      <td>http://images.amazon.com/images/P/0140201092.0...</td>\n",
       "      <td>http://images.amazon.com/images/P/0140201092.0...</td>\n",
       "    </tr>\n",
       "    <tr>\n",
       "      <th>2</th>\n",
       "      <td>0394701658</td>\n",
       "      <td>Three Plays of Eugene Oneill</td>\n",
       "      <td>Eugene O'Neill</td>\n",
       "      <td>1995</td>\n",
       "      <td>Vintage Books USA</td>\n",
       "      <td>http://images.amazon.com/images/P/0394701658.0...</td>\n",
       "      <td>http://images.amazon.com/images/P/0394701658.0...</td>\n",
       "      <td>http://images.amazon.com/images/P/0394701658.0...</td>\n",
       "    </tr>\n",
       "    <tr>\n",
       "      <th>3</th>\n",
       "      <td>068471809X</td>\n",
       "      <td>To Have and Have Not</td>\n",
       "      <td>Ernest Hemingway</td>\n",
       "      <td>1937</td>\n",
       "      <td>Simon &amp;amp; Schuster</td>\n",
       "      <td>http://images.amazon.com/images/P/068471809X.0...</td>\n",
       "      <td>http://images.amazon.com/images/P/068471809X.0...</td>\n",
       "      <td>http://images.amazon.com/images/P/068471809X.0...</td>\n",
       "    </tr>\n",
       "    <tr>\n",
       "      <th>4</th>\n",
       "      <td>0671746103</td>\n",
       "      <td>MY TEACHER FRIED MY BRAINS (RACK SIZE) (MY TEA...</td>\n",
       "      <td>Coville</td>\n",
       "      <td>2005</td>\n",
       "      <td>Aladdin</td>\n",
       "      <td>http://images.amazon.com/images/P/0671746103.0...</td>\n",
       "      <td>http://images.amazon.com/images/P/0671746103.0...</td>\n",
       "      <td>http://images.amazon.com/images/P/0671746103.0...</td>\n",
       "    </tr>\n",
       "  </tbody>\n",
       "</table>\n",
       "</div>"
      ],
      "text/plain": [
       "         ISBN                                         Book-Title  \\\n",
       "0  0140301690  Alice's Adventures in Wonderland and Through t...   \n",
       "1  0140201092      Outline of European Architecture (Pelican S.)   \n",
       "2  0394701658                       Three Plays of Eugene Oneill   \n",
       "3  068471809X                               To Have and Have Not   \n",
       "4  0671746103  MY TEACHER FRIED MY BRAINS (RACK SIZE) (MY TEA...   \n",
       "\n",
       "        Book-Author  Year-Of-Publication             Publisher  \\\n",
       "0     Lewis Carroll                 2000          Puffin Books   \n",
       "1  Nikolaus Pevsner                 1950           Penguin USA   \n",
       "2    Eugene O'Neill                 1995     Vintage Books USA   \n",
       "3  Ernest Hemingway                 1937  Simon &amp; Schuster   \n",
       "4           Coville                 2005               Aladdin   \n",
       "\n",
       "                                         Image-URL-S  \\\n",
       "0  http://images.amazon.com/images/P/0140301690.0...   \n",
       "1  http://images.amazon.com/images/P/0140201092.0...   \n",
       "2  http://images.amazon.com/images/P/0394701658.0...   \n",
       "3  http://images.amazon.com/images/P/068471809X.0...   \n",
       "4  http://images.amazon.com/images/P/0671746103.0...   \n",
       "\n",
       "                                         Image-URL-M  \\\n",
       "0  http://images.amazon.com/images/P/0140301690.0...   \n",
       "1  http://images.amazon.com/images/P/0140201092.0...   \n",
       "2  http://images.amazon.com/images/P/0394701658.0...   \n",
       "3  http://images.amazon.com/images/P/068471809X.0...   \n",
       "4  http://images.amazon.com/images/P/0671746103.0...   \n",
       "\n",
       "                                         Image-URL-L  \n",
       "0  http://images.amazon.com/images/P/0140301690.0...  \n",
       "1  http://images.amazon.com/images/P/0140201092.0...  \n",
       "2  http://images.amazon.com/images/P/0394701658.0...  \n",
       "3  http://images.amazon.com/images/P/068471809X.0...  \n",
       "4  http://images.amazon.com/images/P/0671746103.0...  "
      ]
     },
     "metadata": {},
     "output_type": "display_data"
    },
    {
     "data": {
      "text/html": [
       "<div>\n",
       "<style scoped>\n",
       "    .dataframe tbody tr th:only-of-type {\n",
       "        vertical-align: middle;\n",
       "    }\n",
       "\n",
       "    .dataframe tbody tr th {\n",
       "        vertical-align: top;\n",
       "    }\n",
       "\n",
       "    .dataframe thead th {\n",
       "        text-align: right;\n",
       "    }\n",
       "</style>\n",
       "<table border=\"1\" class=\"dataframe\">\n",
       "  <thead>\n",
       "    <tr style=\"text-align: right;\">\n",
       "      <th></th>\n",
       "      <th>User-ID</th>\n",
       "      <th>ISBN</th>\n",
       "      <th>Book-Rating</th>\n",
       "    </tr>\n",
       "  </thead>\n",
       "  <tbody>\n",
       "    <tr>\n",
       "      <th>0</th>\n",
       "      <td>276725</td>\n",
       "      <td>034545104X</td>\n",
       "      <td>0</td>\n",
       "    </tr>\n",
       "    <tr>\n",
       "      <th>1</th>\n",
       "      <td>276726</td>\n",
       "      <td>0155061224</td>\n",
       "      <td>5</td>\n",
       "    </tr>\n",
       "    <tr>\n",
       "      <th>2</th>\n",
       "      <td>276727</td>\n",
       "      <td>0446520802</td>\n",
       "      <td>0</td>\n",
       "    </tr>\n",
       "    <tr>\n",
       "      <th>3</th>\n",
       "      <td>276729</td>\n",
       "      <td>052165615X</td>\n",
       "      <td>3</td>\n",
       "    </tr>\n",
       "    <tr>\n",
       "      <th>4</th>\n",
       "      <td>276729</td>\n",
       "      <td>0521795028</td>\n",
       "      <td>6</td>\n",
       "    </tr>\n",
       "  </tbody>\n",
       "</table>\n",
       "</div>"
      ],
      "text/plain": [
       "   User-ID        ISBN  Book-Rating\n",
       "0   276725  034545104X            0\n",
       "1   276726  0155061224            5\n",
       "2   276727  0446520802            0\n",
       "3   276729  052165615X            3\n",
       "4   276729  0521795028            6"
      ]
     },
     "metadata": {},
     "output_type": "display_data"
    },
    {
     "data": {
      "text/html": [
       "<div>\n",
       "<style scoped>\n",
       "    .dataframe tbody tr th:only-of-type {\n",
       "        vertical-align: middle;\n",
       "    }\n",
       "\n",
       "    .dataframe tbody tr th {\n",
       "        vertical-align: top;\n",
       "    }\n",
       "\n",
       "    .dataframe thead th {\n",
       "        text-align: right;\n",
       "    }\n",
       "</style>\n",
       "<table border=\"1\" class=\"dataframe\">\n",
       "  <thead>\n",
       "    <tr style=\"text-align: right;\">\n",
       "      <th></th>\n",
       "      <th>User-ID</th>\n",
       "      <th>Location</th>\n",
       "    </tr>\n",
       "  </thead>\n",
       "  <tbody>\n",
       "    <tr>\n",
       "      <th>0</th>\n",
       "      <td>1</td>\n",
       "      <td>nyc, new york, usa</td>\n",
       "    </tr>\n",
       "    <tr>\n",
       "      <th>1</th>\n",
       "      <td>2</td>\n",
       "      <td>stockton, california, usa</td>\n",
       "    </tr>\n",
       "    <tr>\n",
       "      <th>2</th>\n",
       "      <td>3</td>\n",
       "      <td>moscow, yukon territory, russia</td>\n",
       "    </tr>\n",
       "    <tr>\n",
       "      <th>3</th>\n",
       "      <td>4</td>\n",
       "      <td>porto, v.n.gaia, portugal</td>\n",
       "    </tr>\n",
       "    <tr>\n",
       "      <th>4</th>\n",
       "      <td>5</td>\n",
       "      <td>farnborough, hants, united kingdom</td>\n",
       "    </tr>\n",
       "  </tbody>\n",
       "</table>\n",
       "</div>"
      ],
      "text/plain": [
       "   User-ID                            Location\n",
       "0        1                  nyc, new york, usa\n",
       "1        2           stockton, california, usa\n",
       "2        3     moscow, yukon territory, russia\n",
       "3        4           porto, v.n.gaia, portugal\n",
       "4        5  farnborough, hants, united kingdom"
      ]
     },
     "metadata": {},
     "output_type": "display_data"
    }
   ],
   "source": [
    "import pandas as pd\n",
    "import seaborn as sns\n",
    "import numpy as np\n",
    "import warnings\n",
    "import matplotlib.pyplot as plt\n",
    "import os\n",
    "# import nltk\n",
    "\n",
    "# Load data \n",
    "books = pd.read_csv('Books.csv')\n",
    "ratings = pd.read_csv('Ratings.csv')\n",
    "users = pd.read_csv('Users.csv')\n",
    "\n",
    "\n",
    "display(books.head())\n",
    "display(ratings.head())\n",
    "display(users.head())\n",
    "\n"
   ]
  },
  {
   "cell_type": "code",
   "execution_count": 31,
   "metadata": {},
   "outputs": [
    {
     "data": {
      "text/plain": [
       "(266741, 8)"
      ]
     },
     "metadata": {},
     "output_type": "display_data"
    },
    {
     "data": {
      "text/plain": [
       "(1149780, 3)"
      ]
     },
     "metadata": {},
     "output_type": "display_data"
    },
    {
     "data": {
      "text/plain": [
       "(278858, 2)"
      ]
     },
     "metadata": {},
     "output_type": "display_data"
    }
   ],
   "source": [
    "display(books.shape)\n",
    "display(ratings.shape)\n",
    "display(users.shape)"
   ]
  },
  {
   "cell_type": "code",
   "execution_count": 32,
   "metadata": {},
   "outputs": [
    {
     "data": {
      "text/plain": [
       "ISBN                   0\n",
       "Book-Title             0\n",
       "Book-Author            0\n",
       "Year-Of-Publication    0\n",
       "Publisher              0\n",
       "Image-URL-S            0\n",
       "Image-URL-M            0\n",
       "Image-URL-L            0\n",
       "dtype: int64"
      ]
     },
     "execution_count": 32,
     "metadata": {},
     "output_type": "execute_result"
    }
   ],
   "source": [
    "books.isna().sum()\n",
    "\n"
   ]
  },
  {
   "cell_type": "code",
   "execution_count": 33,
   "metadata": {},
   "outputs": [
    {
     "data": {
      "text/plain": [
       "User-ID     0\n",
       "Location    0\n",
       "dtype: int64"
      ]
     },
     "execution_count": 33,
     "metadata": {},
     "output_type": "execute_result"
    }
   ],
   "source": [
    "\n",
    "# Users dataset\n",
    "users.isna().sum()"
   ]
  },
  {
   "cell_type": "code",
   "execution_count": 34,
   "metadata": {},
   "outputs": [
    {
     "data": {
      "text/plain": [
       "np.int64(0)"
      ]
     },
     "execution_count": 34,
     "metadata": {},
     "output_type": "execute_result"
    }
   ],
   "source": [
    "books.duplicated().sum()\n"
   ]
  },
  {
   "cell_type": "code",
   "execution_count": 35,
   "metadata": {},
   "outputs": [
    {
     "data": {
      "text/plain": [
       "np.int64(0)"
      ]
     },
     "execution_count": 35,
     "metadata": {},
     "output_type": "execute_result"
    }
   ],
   "source": [
    "users.duplicated().sum()\n"
   ]
  },
  {
   "cell_type": "code",
   "execution_count": 36,
   "metadata": {},
   "outputs": [
    {
     "data": {
      "text/plain": [
       "np.int64(0)"
      ]
     },
     "execution_count": 36,
     "metadata": {},
     "output_type": "execute_result"
    }
   ],
   "source": [
    "ratings.duplicated().sum()\n"
   ]
  },
  {
   "cell_type": "code",
   "execution_count": 37,
   "metadata": {},
   "outputs": [
    {
     "data": {
      "text/html": [
       "<div>\n",
       "<style scoped>\n",
       "    .dataframe tbody tr th:only-of-type {\n",
       "        vertical-align: middle;\n",
       "    }\n",
       "\n",
       "    .dataframe tbody tr th {\n",
       "        vertical-align: top;\n",
       "    }\n",
       "\n",
       "    .dataframe thead th {\n",
       "        text-align: right;\n",
       "    }\n",
       "</style>\n",
       "<table border=\"1\" class=\"dataframe\">\n",
       "  <thead>\n",
       "    <tr style=\"text-align: right;\">\n",
       "      <th></th>\n",
       "      <th>ISBN</th>\n",
       "      <th>Book-Title</th>\n",
       "      <th>Book-Author</th>\n",
       "      <th>Year-Of-Publication</th>\n",
       "      <th>Publisher</th>\n",
       "      <th>Image-URL-S</th>\n",
       "      <th>Image-URL-M</th>\n",
       "      <th>Image-URL-L</th>\n",
       "    </tr>\n",
       "  </thead>\n",
       "  <tbody>\n",
       "    <tr>\n",
       "      <th>0</th>\n",
       "      <td>0140301690</td>\n",
       "      <td>Alice's Adventures in Wonderland and Through t...</td>\n",
       "      <td>Lewis Carroll</td>\n",
       "      <td>2000</td>\n",
       "      <td>Puffin Books</td>\n",
       "      <td>http://images.amazon.com/images/P/0140301690.0...</td>\n",
       "      <td>http://images.amazon.com/images/P/0140301690.0...</td>\n",
       "      <td>http://images.amazon.com/images/P/0140301690.0...</td>\n",
       "    </tr>\n",
       "    <tr>\n",
       "      <th>1</th>\n",
       "      <td>0140201092</td>\n",
       "      <td>Outline of European Architecture (Pelican S.)</td>\n",
       "      <td>Nikolaus Pevsner</td>\n",
       "      <td>1950</td>\n",
       "      <td>Penguin USA</td>\n",
       "      <td>http://images.amazon.com/images/P/0140201092.0...</td>\n",
       "      <td>http://images.amazon.com/images/P/0140201092.0...</td>\n",
       "      <td>http://images.amazon.com/images/P/0140201092.0...</td>\n",
       "    </tr>\n",
       "    <tr>\n",
       "      <th>2</th>\n",
       "      <td>0394701658</td>\n",
       "      <td>Three Plays of Eugene Oneill</td>\n",
       "      <td>Eugene O'Neill</td>\n",
       "      <td>1995</td>\n",
       "      <td>Vintage Books USA</td>\n",
       "      <td>http://images.amazon.com/images/P/0394701658.0...</td>\n",
       "      <td>http://images.amazon.com/images/P/0394701658.0...</td>\n",
       "      <td>http://images.amazon.com/images/P/0394701658.0...</td>\n",
       "    </tr>\n",
       "    <tr>\n",
       "      <th>3</th>\n",
       "      <td>068471809X</td>\n",
       "      <td>To Have and Have Not</td>\n",
       "      <td>Ernest Hemingway</td>\n",
       "      <td>1937</td>\n",
       "      <td>Simon &amp;amp; Schuster</td>\n",
       "      <td>http://images.amazon.com/images/P/068471809X.0...</td>\n",
       "      <td>http://images.amazon.com/images/P/068471809X.0...</td>\n",
       "      <td>http://images.amazon.com/images/P/068471809X.0...</td>\n",
       "    </tr>\n",
       "    <tr>\n",
       "      <th>4</th>\n",
       "      <td>0671746103</td>\n",
       "      <td>MY TEACHER FRIED MY BRAINS (RACK SIZE) (MY TEA...</td>\n",
       "      <td>Coville</td>\n",
       "      <td>2005</td>\n",
       "      <td>Aladdin</td>\n",
       "      <td>http://images.amazon.com/images/P/0671746103.0...</td>\n",
       "      <td>http://images.amazon.com/images/P/0671746103.0...</td>\n",
       "      <td>http://images.amazon.com/images/P/0671746103.0...</td>\n",
       "    </tr>\n",
       "  </tbody>\n",
       "</table>\n",
       "</div>"
      ],
      "text/plain": [
       "         ISBN                                         Book-Title  \\\n",
       "0  0140301690  Alice's Adventures in Wonderland and Through t...   \n",
       "1  0140201092      Outline of European Architecture (Pelican S.)   \n",
       "2  0394701658                       Three Plays of Eugene Oneill   \n",
       "3  068471809X                               To Have and Have Not   \n",
       "4  0671746103  MY TEACHER FRIED MY BRAINS (RACK SIZE) (MY TEA...   \n",
       "\n",
       "        Book-Author  Year-Of-Publication             Publisher  \\\n",
       "0     Lewis Carroll                 2000          Puffin Books   \n",
       "1  Nikolaus Pevsner                 1950           Penguin USA   \n",
       "2    Eugene O'Neill                 1995     Vintage Books USA   \n",
       "3  Ernest Hemingway                 1937  Simon &amp; Schuster   \n",
       "4           Coville                 2005               Aladdin   \n",
       "\n",
       "                                         Image-URL-S  \\\n",
       "0  http://images.amazon.com/images/P/0140301690.0...   \n",
       "1  http://images.amazon.com/images/P/0140201092.0...   \n",
       "2  http://images.amazon.com/images/P/0394701658.0...   \n",
       "3  http://images.amazon.com/images/P/068471809X.0...   \n",
       "4  http://images.amazon.com/images/P/0671746103.0...   \n",
       "\n",
       "                                         Image-URL-M  \\\n",
       "0  http://images.amazon.com/images/P/0140301690.0...   \n",
       "1  http://images.amazon.com/images/P/0140201092.0...   \n",
       "2  http://images.amazon.com/images/P/0394701658.0...   \n",
       "3  http://images.amazon.com/images/P/068471809X.0...   \n",
       "4  http://images.amazon.com/images/P/0671746103.0...   \n",
       "\n",
       "                                         Image-URL-L  \n",
       "0  http://images.amazon.com/images/P/0140301690.0...  \n",
       "1  http://images.amazon.com/images/P/0140201092.0...  \n",
       "2  http://images.amazon.com/images/P/0394701658.0...  \n",
       "3  http://images.amazon.com/images/P/068471809X.0...  \n",
       "4  http://images.amazon.com/images/P/0671746103.0...  "
      ]
     },
     "execution_count": 37,
     "metadata": {},
     "output_type": "execute_result"
    }
   ],
   "source": [
    "books.head()\n"
   ]
  },
  {
   "cell_type": "code",
   "execution_count": 38,
   "metadata": {},
   "outputs": [
    {
     "data": {
      "text/plain": [
       "ISBN                   object\n",
       "Book-Title             object\n",
       "Book-Author            object\n",
       "Year-Of-Publication     int64\n",
       "Publisher              object\n",
       "Image-URL-S            object\n",
       "Image-URL-M            object\n",
       "Image-URL-L            object\n",
       "dtype: object"
      ]
     },
     "execution_count": 38,
     "metadata": {},
     "output_type": "execute_result"
    }
   ],
   "source": [
    "books.dtypes\n"
   ]
  },
  {
   "cell_type": "code",
   "execution_count": 39,
   "metadata": {},
   "outputs": [
    {
     "data": {
      "text/plain": [
       "Year-Of-Publication\n",
       "2021        1\n",
       "2020        3\n",
       "2012        1\n",
       "2011        2\n",
       "2010        2\n",
       "2008        1\n",
       "2006        4\n",
       "2005       47\n",
       "2004     5839\n",
       "2003    14360\n",
       "2002    17627\n",
       "2001    17360\n",
       "2000    17235\n",
       "1999    17430\n",
       "1998    15766\n",
       "1997    14890\n",
       "1996    14030\n",
       "1995    13547\n",
       "1994    11796\n",
       "1993    10602\n",
       "Name: count, dtype: int64"
      ]
     },
     "execution_count": 39,
     "metadata": {},
     "output_type": "execute_result"
    }
   ],
   "source": [
    "books['Year-Of-Publication'].value_counts().sort_index(ascending=False).iloc[:20]\n"
   ]
  }
 ],
 "metadata": {
  "kernelspec": {
   "display_name": ".venv",
   "language": "python",
   "name": "python3"
  },
  "language_info": {
   "codemirror_mode": {
    "name": "ipython",
    "version": 3
   },
   "file_extension": ".py",
   "mimetype": "text/x-python",
   "name": "python",
   "nbconvert_exporter": "python",
   "pygments_lexer": "ipython3",
   "version": "3.12.4"
  }
 },
 "nbformat": 4,
 "nbformat_minor": 2
}
