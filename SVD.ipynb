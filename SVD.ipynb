{
 "cells": [
  {
   "cell_type": "code",
   "execution_count": 1,
   "metadata": {},
   "outputs": [],
   "source": [
    "#80/20 train/test split of model \n",
    "\n",
    "# @article{Hug2020,\n",
    "#   doi = {10.21105/joss.02174},\n",
    "#   url = {https://doi.org/10.21105/joss.02174},\n",
    "#   year = {2020},\n",
    "#   publisher = {The Open Journal},\n",
    "#   volume = {5},\n",
    "#   number = {52},\n",
    "#   pages = {2174},\n",
    "#   author = {Nicolas Hug},\n",
    "#   title = {Surprise: A Python library for recommender systems},\n",
    "#   journal = {Journal of Open Source Software}\n",
    "# }\n",
    "\n",
    "\n",
    "\n",
    "import pandas as pd\n",
    "import numpy as np\n",
    "from surprise import Dataset, Reader, SVD\n",
    "from surprise.model_selection import train_test_split\n",
    "\n",
    "df = pd.read_csv('joined_dataset.csv', low_memory=False)\n",
    "\n",
    "reader = Reader(rating_scale=(1, 10)) \n",
    "data = Dataset.load_from_df(df[['User-ID', 'ISBN', 'Book-Rating']], reader)\n",
    "\n",
    "trainset, testset = train_test_split(data, test_size=0.2)\n",
    "\n",
    "model = SVD()"
   ]
  },
  {
   "cell_type": "code",
   "execution_count": 2,
   "metadata": {},
   "outputs": [
    {
     "name": "stdout",
     "output_type": "stream",
     "text": [
      "Evaluating RMSE, MAE of algorithm SVD on 5 split(s).\n",
      "\n",
      "                  Fold 1  Fold 2  Fold 3  Fold 4  Fold 5  Mean    Std     \n",
      "RMSE (testset)    1.6396  1.6364  1.6355  1.6298  1.6421  1.6367  0.0042  \n",
      "MAE (testset)     1.2643  1.2651  1.2632  1.2592  1.2642  1.2632  0.0021  \n",
      "Fit time          6.71    6.80    6.81    6.93    6.94    6.84    0.09    \n",
      "Test time         0.85    0.86    0.92    0.50    0.50    0.72    0.19    \n"
     ]
    },
    {
     "data": {
      "text/plain": [
       "{'test_rmse': array([1.63961336, 1.63638737, 1.63548877, 1.62981898, 1.64212033]),\n",
       " 'test_mae': array([1.26434266, 1.26508775, 1.26315825, 1.25919327, 1.26419115]),\n",
       " 'fit_time': (6.706929445266724,\n",
       "  6.798751592636108,\n",
       "  6.808389902114868,\n",
       "  6.926517486572266,\n",
       "  6.937875986099243),\n",
       " 'test_time': (0.8484663963317871,\n",
       "  0.8584671020507812,\n",
       "  0.9170818328857422,\n",
       "  0.4975879192352295,\n",
       "  0.5018248558044434)}"
      ]
     },
     "execution_count": 2,
     "metadata": {},
     "output_type": "execute_result"
    }
   ],
   "source": [
    "from surprise.model_selection import cross_validate\n",
    "\n",
    "cross_validate(model, data, measures=['RMSE', 'MAE'], cv=5, verbose=True)\n"
   ]
  },
  {
   "cell_type": "code",
   "execution_count": 4,
   "metadata": {},
   "outputs": [
    {
     "name": "stdout",
     "output_type": "stream",
     "text": [
      "Evaluating RMSE, MAE of algorithm NormalPredictor on 5 split(s).\n",
      "\n",
      "                  Fold 1  Fold 2  Fold 3  Fold 4  Fold 5  Mean    Std     \n",
      "RMSE (testset)    2.5045  2.4972  2.4985  2.4974  2.4928  2.4981  0.0037  \n",
      "MAE (testset)     1.9985  1.9964  1.9953  1.9929  1.9880  1.9942  0.0036  \n",
      "Fit time          0.57    0.75    0.72    0.73    0.72    0.70    0.07    \n",
      "Test time         0.47    0.55    0.52    0.50    0.44    0.50    0.04    \n"
     ]
    },
    {
     "data": {
      "text/plain": [
       "{'test_rmse': array([2.50445139, 2.49723811, 2.49850709, 2.49742461, 2.49276651]),\n",
       " 'test_mae': array([1.99854087, 1.99638929, 1.99526808, 1.99290275, 1.98797308]),\n",
       " 'fit_time': (0.5674049854278564,\n",
       "  0.7508313655853271,\n",
       "  0.7169806957244873,\n",
       "  0.7335541248321533,\n",
       "  0.7161374092102051),\n",
       " 'test_time': (0.4708833694458008,\n",
       "  0.5506687164306641,\n",
       "  0.5193257331848145,\n",
       "  0.5004458427429199,\n",
       "  0.4353368282318115)}"
      ]
     },
     "execution_count": 4,
     "metadata": {},
     "output_type": "execute_result"
    }
   ],
   "source": [
    "# Random predictor baseline\n",
    "from surprise import NormalPredictor\n",
    "\n",
    "random_model = NormalPredictor()  # Random predictions based on normal distribution\n",
    "cross_validate(random_model, data, measures=['RMSE', 'MAE'], cv=5, verbose=True)\n"
   ]
  },
  {
   "cell_type": "code",
   "execution_count": 3,
   "metadata": {},
   "outputs": [
    {
     "name": "stdout",
     "output_type": "stream",
     "text": [
      "Evaluating RMSE, MAE of algorithm MeanPredictor on 5 split(s).\n",
      "\n",
      "                  Fold 1  Fold 2  Fold 3  Fold 4  Fold 5  Mean    Std     \n",
      "RMSE (testset)    1.8356  1.8445  1.8396  1.8464  1.8405  1.8413  0.0038  \n",
      "MAE (testset)     1.4920  1.4960  1.4909  1.4998  1.4925  1.4942  0.0033  \n",
      "Fit time          0.20    0.35    0.40    0.35    0.38    0.34    0.07    \n",
      "Test time         0.27    0.23    0.75    0.27    0.78    0.46    0.25    \n",
      "{'test_rmse': array([1.83555965, 1.8445041 , 1.83962357, 1.84638696, 1.84054816]), 'test_mae': array([1.49196806, 1.49602446, 1.49087695, 1.49976284, 1.49253408]), 'fit_time': (0.2002556324005127, 0.3512086868286133, 0.39946413040161133, 0.35322093963623047, 0.37673234939575195), 'test_time': (0.26767563819885254, 0.23459315299987793, 0.7517728805541992, 0.26772093772888184, 0.7840862274169922)}\n"
     ]
    }
   ],
   "source": [
    "from surprise import AlgoBase\n",
    "from surprise import Dataset\n",
    "from surprise.model_selection import cross_validate\n",
    "\n",
    "# Custom baseline algorithm class\n",
    "class MeanPredictor(AlgoBase):\n",
    "    def __init__(self):\n",
    "        # Call the base constructor\n",
    "        AlgoBase.__init__(self)\n",
    "\n",
    "    def fit(self, trainset):\n",
    "        # This method is used to fit the algorithm to the training set\n",
    "        # Store the global mean rating for predictions\n",
    "        AlgoBase.fit(self, trainset)\n",
    "        self.global_mean = trainset.global_mean\n",
    "        return self\n",
    "\n",
    "    def estimate(self, u, i):\n",
    "        # This method estimates the rating for user u and item i\n",
    "        # Here we simply return the global mean\n",
    "        return self.global_mean\n",
    "\n",
    "\n",
    "# Create the baseline model (MeanPredictor)\n",
    "baseline_model = MeanPredictor()\n",
    "\n",
    "# Perform cross-validation\n",
    "cv_results = cross_validate(baseline_model, data, measures=['RMSE', 'MAE'], cv=5, verbose=True)\n",
    "\n",
    "# Output the cross-validation results\n",
    "print(cv_results)\n"
   ]
  },
  {
   "cell_type": "code",
   "execution_count": 11,
   "metadata": {},
   "outputs": [
    {
     "name": "stdout",
     "output_type": "stream",
     "text": [
      "Estimating biases using als...\n",
      "Computing the pearson_baseline similarity matrix...\n",
      "Done computing similarity matrix.\n",
      "Estimating biases using als...\n",
      "Computing the pearson_baseline similarity matrix...\n",
      "Done computing similarity matrix.\n",
      "Estimating biases using als...\n",
      "Computing the pearson_baseline similarity matrix...\n",
      "Done computing similarity matrix.\n",
      "Estimating biases using als...\n",
      "Computing the pearson_baseline similarity matrix...\n",
      "Done computing similarity matrix.\n",
      "Estimating biases using als...\n",
      "Computing the pearson_baseline similarity matrix...\n",
      "Done computing similarity matrix.\n",
      "Evaluating RMSE, MAE of algorithm KNNBaseline on 5 split(s).\n",
      "\n",
      "                  Fold 1  Fold 2  Fold 3  Fold 4  Fold 5  Mean    Std     \n",
      "RMSE (testset)    1.7265  1.7464  1.7309  1.7374  1.7393  1.7361  0.0069  \n",
      "MAE (testset)     1.3197  1.3296  1.3187  1.3186  1.3238  1.3221  0.0042  \n",
      "Fit time          28.52   30.61   23.00   23.45   26.40   26.40   2.92    \n",
      "Test time         1.27    1.62    1.59    1.28    1.30    1.41    0.16    \n",
      "{'test_rmse': array([1.72654441, 1.74641551, 1.73093125, 1.73735269, 1.73932009]), 'test_mae': array([1.31974741, 1.32959248, 1.31867079, 1.31864249, 1.32376596]), 'fit_time': (28.522928714752197, 30.612910509109497, 23.001845836639404, 23.44571566581726, 26.402833461761475), 'test_time': (1.2740683555603027, 1.6157822608947754, 1.588259220123291, 1.2820582389831543, 1.3011536598205566)}\n"
     ]
    }
   ],
   "source": [
    "from surprise import KNNBaseline\n",
    "from surprise import Dataset, Reader\n",
    "from surprise.model_selection import cross_validate\n",
    "\n",
    "# Load your dataset\n",
    "df = pd.read_csv('joined_dataset.csv', low_memory=False)\n",
    "\n",
    "# Filter users with fewer than a threshold number of ratings\n",
    "min_ratings = 3\n",
    "df_filtered = df.groupby('User-ID').filter(lambda x: len(x) >= min_ratings)\n",
    "\n",
    "# Filter items (books) with fewer than a threshold number of ratings\n",
    "min_item_ratings = 10\n",
    "df_filtered = df_filtered.groupby('ISBN').filter(lambda x: len(x) >= min_item_ratings)\n",
    "\n",
    "\n",
    "reader = Reader(rating_scale=(df_filtered['Book-Rating'].min(), df['Book-Rating'].max()))\n",
    "data = Dataset.load_from_df(df_filtered[['User-ID', 'ISBN', 'Book-Rating']], reader)\n",
    "\n",
    "# Set the similarity options\n",
    "sim_options = {\n",
    "    'name': 'pearson_baseline',  # Use Pearson correlation\n",
    "    'user_based': True  # If True, computes similarities between users. False for items.\n",
    "}\n",
    "\n",
    "# Initialize the KNNBaseline algorithm\n",
    "knn_baseline = KNNBaseline(sim_options=sim_options)\n",
    "\n",
    "# Perform cross-validation\n",
    "cv_results_knn = cross_validate(knn_baseline, data, measures=['RMSE', 'MAE'], cv=5, verbose=True)\n",
    "\n",
    "# Output results\n",
    "print(cv_results_knn)\n"
   ]
  },
  {
   "cell_type": "code",
   "execution_count": 9,
   "metadata": {},
   "outputs": [],
   "source": [
    "#Made svd_model, prevent overwriting\n",
    "# import pickle\n",
    "\n",
    "# # Save the model\n",
    "# with open('svd_model.pkl', 'wb') as file:\n",
    "#     pickle.dump(model, file)"
   ]
  }
 ],
 "metadata": {
  "kernelspec": {
   "display_name": ".venv",
   "language": "python",
   "name": "python3"
  },
  "language_info": {
   "codemirror_mode": {
    "name": "ipython",
    "version": 3
   },
   "file_extension": ".py",
   "mimetype": "text/x-python",
   "name": "python",
   "nbconvert_exporter": "python",
   "pygments_lexer": "ipython3",
   "version": "3.12.5"
  }
 },
 "nbformat": 4,
 "nbformat_minor": 2
}
