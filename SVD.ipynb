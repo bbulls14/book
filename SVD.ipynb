{
 "cells": [
  {
   "cell_type": "code",
   "execution_count": 2,
   "metadata": {},
   "outputs": [],
   "source": [
    "#80/20 train/test split of model \n",
    "\n",
    "# @article{Hug2020,\n",
    "#   doi = {10.21105/joss.02174},\n",
    "#   url = {https://doi.org/10.21105/joss.02174},\n",
    "#   year = {2020},\n",
    "#   publisher = {The Open Journal},\n",
    "#   volume = {5},\n",
    "#   number = {52},\n",
    "#   pages = {2174},\n",
    "#   author = {Nicolas Hug},\n",
    "#   title = {Surprise: A Python library for recommender systems},\n",
    "#   journal = {Journal of Open Source Software}\n",
    "# }\n",
    "\n",
    "\n",
    "\n",
    "import pandas as pd\n",
    "import numpy as np\n",
    "from surprise import Dataset, Reader, SVD\n",
    "from surprise.model_selection import train_test_split\n",
    "\n",
    "df = pd.read_csv('joined_dataset.csv', low_memory=False)\n",
    "\n",
    "reader = Reader(rating_scale=(1, 10)) \n",
    "data = Dataset.load_from_df(df[['User-ID', 'ISBN', 'Book-Rating']], reader)\n",
    "\n",
    "trainset, testset = train_test_split(data, test_size=0.2)\n",
    "\n",
    "model = SVD()"
   ]
  },
  {
   "cell_type": "code",
   "execution_count": 3,
   "metadata": {},
   "outputs": [
    {
     "name": "stdout",
     "output_type": "stream",
     "text": [
      "Evaluating RMSE, MAE of algorithm SVD on 5 split(s).\n",
      "\n",
      "                  Fold 1  Fold 2  Fold 3  Fold 4  Fold 5  Mean    Std     \n",
      "RMSE (testset)    1.6322  1.6337  1.6426  1.6367  1.6318  1.6354  0.0040  \n",
      "MAE (testset)     1.2591  1.2596  1.2686  1.2599  1.2624  1.2619  0.0035  \n",
      "Fit time          6.62    6.92    6.84    6.84    7.03    6.85    0.13    \n",
      "Test time         0.53    0.89    0.94    0.57    0.89    0.76    0.18    \n"
     ]
    },
    {
     "data": {
      "text/plain": [
       "{'test_rmse': array([1.63220043, 1.63369043, 1.64261287, 1.63667123, 1.63178872]),\n",
       " 'test_mae': array([1.2591123 , 1.2595566 , 1.26855778, 1.25991446, 1.26244495]),\n",
       " 'fit_time': (6.619834661483765,\n",
       "  6.922223806381226,\n",
       "  6.84015679359436,\n",
       "  6.844214200973511,\n",
       "  7.027630805969238),\n",
       " 'test_time': (0.5338289737701416,\n",
       "  0.8902616500854492,\n",
       "  0.9363884925842285,\n",
       "  0.5674099922180176,\n",
       "  0.8942067623138428)}"
      ]
     },
     "execution_count": 3,
     "metadata": {},
     "output_type": "execute_result"
    }
   ],
   "source": [
    "from surprise.model_selection import cross_validate\n",
    "\n",
    "cross_validate(model, data, measures=['RMSE', 'MAE'], cv=5, verbose=True)\n"
   ]
  },
  {
   "cell_type": "code",
   "execution_count": 4,
   "metadata": {},
   "outputs": [
    {
     "name": "stdout",
     "output_type": "stream",
     "text": [
      "Evaluating RMSE, MAE of algorithm NormalPredictor on 5 split(s).\n",
      "\n",
      "                  Fold 1  Fold 2  Fold 3  Fold 4  Fold 5  Mean    Std     \n",
      "RMSE (testset)    2.5018  2.5083  2.4945  2.4964  2.4952  2.4992  0.0052  \n",
      "MAE (testset)     1.9977  2.0013  1.9915  1.9946  1.9876  1.9945  0.0047  \n",
      "Fit time          0.44    0.62    0.59    0.60    0.59    0.57    0.07    \n",
      "Test time         0.33    0.92    0.34    0.36    0.37    0.46    0.23    \n"
     ]
    },
    {
     "data": {
      "text/plain": [
       "{'test_rmse': array([2.50178154, 2.50825715, 2.49445128, 2.49636401, 2.49524615]),\n",
       " 'test_mae': array([1.99768136, 2.00131346, 1.99146921, 1.99461731, 1.98764884]),\n",
       " 'fit_time': (0.43929076194763184,\n",
       "  0.6213939189910889,\n",
       "  0.5862705707550049,\n",
       "  0.6023659706115723,\n",
       "  0.5927672386169434),\n",
       " 'test_time': (0.32723188400268555,\n",
       "  0.922950267791748,\n",
       "  0.34299492835998535,\n",
       "  0.3572525978088379,\n",
       "  0.3670175075531006)}"
      ]
     },
     "execution_count": 4,
     "metadata": {},
     "output_type": "execute_result"
    }
   ],
   "source": [
    "# Random predictor baseline\n",
    "from surprise import NormalPredictor\n",
    "\n",
    "random_model = NormalPredictor()  # Random predictions based on normal distribution\n",
    "cross_validate(random_model, data, measures=['RMSE', 'MAE'], cv=5, verbose=True)\n"
   ]
  },
  {
   "cell_type": "code",
   "execution_count": 5,
   "metadata": {},
   "outputs": [
    {
     "name": "stdout",
     "output_type": "stream",
     "text": [
      "Evaluating RMSE, MAE of algorithm MeanPredictor on 5 split(s).\n",
      "\n",
      "                  Fold 1  Fold 2  Fold 3  Fold 4  Fold 5  Mean    Std     \n",
      "RMSE (testset)    1.8412  1.8383  1.8453  1.8376  1.8442  1.8413  0.0031  \n",
      "MAE (testset)     1.4931  1.4918  1.4986  1.4910  1.4967  1.4942  0.0029  \n",
      "Fit time          0.21    0.35    0.35    0.35    0.35    0.32    0.06    \n",
      "Test time         0.25    0.23    0.93    0.93    0.91    0.65    0.33    \n",
      "{'test_rmse': array([1.84124197, 1.83828821, 1.84527161, 1.83759433, 1.84423261]), 'test_mae': array([1.49309297, 1.4917903 , 1.49855347, 1.49104539, 1.49668362]), 'fit_time': (0.20583438873291016, 0.3493316173553467, 0.3504791259765625, 0.35009145736694336, 0.35471200942993164), 'test_time': (0.2501943111419678, 0.23462271690368652, 0.9346303939819336, 0.9334135055541992, 0.9073429107666016)}\n"
     ]
    }
   ],
   "source": [
    "from surprise import AlgoBase\n",
    "from surprise import Dataset\n",
    "from surprise.model_selection import cross_validate\n",
    "\n",
    "# Custom baseline algorithm class\n",
    "class MeanPredictor(AlgoBase):\n",
    "    def __init__(self):\n",
    "        # Call the base constructor\n",
    "        AlgoBase.__init__(self)\n",
    "\n",
    "    def fit(self, trainset):\n",
    "        # This method is used to fit the algorithm to the training set\n",
    "        # Store the global mean rating for predictions\n",
    "        AlgoBase.fit(self, trainset)\n",
    "        self.global_mean = trainset.global_mean\n",
    "        return self\n",
    "\n",
    "    def estimate(self, u, i):\n",
    "        # This method estimates the rating for user u and item i\n",
    "        # Here we simply return the global mean\n",
    "        return self.global_mean\n",
    "\n",
    "\n",
    "# Create the baseline model (MeanPredictor)\n",
    "baseline_model = MeanPredictor()\n",
    "\n",
    "# Perform cross-validation\n",
    "cv_results = cross_validate(baseline_model, data, measures=['RMSE', 'MAE'], cv=5, verbose=True)\n",
    "\n",
    "# Output the cross-validation results\n",
    "print(cv_results)\n"
   ]
  },
  {
   "cell_type": "code",
   "execution_count": 6,
   "metadata": {},
   "outputs": [
    {
     "name": "stdout",
     "output_type": "stream",
     "text": [
      "Estimating biases using als...\n",
      "Computing the pearson_baseline similarity matrix...\n",
      "Done computing similarity matrix.\n",
      "Estimating biases using als...\n",
      "Computing the pearson_baseline similarity matrix...\n",
      "Done computing similarity matrix.\n",
      "Estimating biases using als...\n",
      "Computing the pearson_baseline similarity matrix...\n",
      "Done computing similarity matrix.\n",
      "Estimating biases using als...\n",
      "Computing the pearson_baseline similarity matrix...\n",
      "Done computing similarity matrix.\n",
      "Estimating biases using als...\n",
      "Computing the pearson_baseline similarity matrix...\n",
      "Done computing similarity matrix.\n",
      "Evaluating RMSE, MAE of algorithm KNNBaseline on 5 split(s).\n",
      "\n",
      "                  Fold 1  Fold 2  Fold 3  Fold 4  Fold 5  Mean    Std     \n",
      "RMSE (testset)    1.7418  1.7155  1.7397  1.7531  1.7316  1.7363  0.0125  \n",
      "MAE (testset)     1.3249  1.3095  1.3245  1.3292  1.3244  1.3225  0.0067  \n",
      "Fit time          49.82   27.95   28.48   18.91   20.77   29.19   10.99   \n",
      "Test time         1.30    1.45    1.31    1.27    3.43    1.75    0.84    \n",
      "{'test_rmse': array([1.74178794, 1.71548151, 1.73973384, 1.75305809, 1.73161021]), 'test_mae': array([1.32493247, 1.3095239 , 1.32448244, 1.32919978, 1.32441555]), 'fit_time': (49.820873498916626, 27.953781127929688, 28.48074984550476, 18.907458543777466, 20.77199411392212), 'test_time': (1.2993290424346924, 1.4516019821166992, 1.3053526878356934, 1.2706174850463867, 3.4305965900421143)}\n"
     ]
    }
   ],
   "source": [
    "from surprise import KNNBaseline\n",
    "from surprise import Dataset, Reader\n",
    "from surprise.model_selection import cross_validate\n",
    "\n",
    "# Load your dataset\n",
    "df = pd.read_csv('joined_dataset.csv', low_memory=False)\n",
    "\n",
    "# Filter users with fewer than a threshold number of ratings\n",
    "min_ratings = 3\n",
    "df_filtered = df.groupby('User-ID').filter(lambda x: len(x) >= min_ratings)\n",
    "\n",
    "# Filter items (books) with fewer than a threshold number of ratings\n",
    "min_item_ratings = 10\n",
    "df_filtered = df_filtered.groupby('ISBN').filter(lambda x: len(x) >= min_item_ratings)\n",
    "\n",
    "\n",
    "reader = Reader(rating_scale=(df_filtered['Book-Rating'].min(), df['Book-Rating'].max()))\n",
    "data = Dataset.load_from_df(df_filtered[['User-ID', 'ISBN', 'Book-Rating']], reader)\n",
    "\n",
    "# Set the similarity options\n",
    "sim_options = {\n",
    "    'name': 'pearson_baseline',  # Use Pearson correlation\n",
    "    'user_based': True  # If True, computes similarities between users. False for items.\n",
    "}\n",
    "\n",
    "# Initialize the KNNBaseline algorithm\n",
    "knn_baseline = KNNBaseline(sim_options=sim_options)\n",
    "\n",
    "# Perform cross-validation\n",
    "cv_results_knn = cross_validate(knn_baseline, data, measures=['RMSE', 'MAE'], cv=5, verbose=True)\n",
    "\n",
    "# Output results\n",
    "print(cv_results_knn)\n"
   ]
  },
  {
   "cell_type": "code",
   "execution_count": 10,
   "metadata": {},
   "outputs": [],
   "source": [
    "# Made svd_model, prevent overwriting\n",
    "import pickle\n",
    "\n",
    "with open('svd_model.pkl', 'wb') as file:\n",
    "    pickle.dump(model, file)"
   ]
  }
 ],
 "metadata": {
  "kernelspec": {
   "display_name": ".venv",
   "language": "python",
   "name": "python3"
  },
  "language_info": {
   "codemirror_mode": {
    "name": "ipython",
    "version": 3
   },
   "file_extension": ".py",
   "mimetype": "text/x-python",
   "name": "python",
   "nbconvert_exporter": "python",
   "pygments_lexer": "ipython3",
   "version": "3.12.5"
  }
 },
 "nbformat": 4,
 "nbformat_minor": 2
}
