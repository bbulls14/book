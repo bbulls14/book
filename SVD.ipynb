{
 "cells": [
  {
   "cell_type": "code",
   "execution_count": 8,
   "metadata": {},
   "outputs": [],
   "source": [
    "# @article{Hug2020,\n",
    "#   doi = {10.21105/joss.02174},\n",
    "#   url = {https://doi.org/10.21105/joss.02174},\n",
    "#   year = {2020},\n",
    "#   publisher = {The Open Journal},\n",
    "#   volume = {5},\n",
    "#   number = {52},\n",
    "#   pages = {2174},\n",
    "#   author = {Nicolas Hug},\n",
    "#   title = {Surprise: A Python library for recommender systems},\n",
    "#   journal = {Journal of Open Source Software}\n",
    "# }\n",
    "\n",
    "\n",
    "#create svd model with 80/20 train/test split\n",
    "import pandas as pd\n",
    "import numpy as np\n",
    "from surprise import Dataset, Reader, SVD\n",
    "from surprise.model_selection import train_test_split\n",
    "\n",
    "df = pd.read_csv('joined_dataset.csv', low_memory=False)\n",
    "\n",
    "reader = Reader(rating_scale=(1, 10)) \n",
    "data = Dataset.load_from_df(df[['User-ID', 'ISBN', 'Book-Rating']], reader)\n",
    "\n",
    "trainset, testset = train_test_split(data, test_size=0.2)\n",
    "\n",
    "model = SVD()"
   ]
  },
  {
   "cell_type": "code",
   "execution_count": 9,
   "metadata": {},
   "outputs": [
    {
     "name": "stdout",
     "output_type": "stream",
     "text": [
      "Evaluating RMSE, MAE of algorithm SVD on 5 split(s).\n",
      "\n",
      "                  Fold 1  Fold 2  Fold 3  Fold 4  Fold 5  Mean    Std     \n",
      "RMSE (testset)    1.6360  1.6358  1.6346  1.6373  1.6399  1.6367  0.0018  \n",
      "MAE (testset)     1.2631  1.2620  1.2603  1.2636  1.2642  1.2626  0.0014  \n",
      "Fit time          7.17    9.48    12.11   7.66    7.27    8.74    1.88    \n",
      "Test time         0.70    3.75    1.35    1.47    1.28    1.71    1.05    \n"
     ]
    },
    {
     "data": {
      "text/plain": [
       "{'test_rmse': array([1.63604106, 1.63581216, 1.63456278, 1.63725821, 1.63991627]),\n",
       " 'test_mae': array([1.26309972, 1.26203322, 1.2602931 , 1.26357775, 1.26416567]),\n",
       " 'fit_time': (7.1725404262542725,\n",
       "  9.478505611419678,\n",
       "  12.113497018814087,\n",
       "  7.664325952529907,\n",
       "  7.270164489746094),\n",
       " 'test_time': (0.7039694786071777,\n",
       "  3.7500197887420654,\n",
       "  1.3530941009521484,\n",
       "  1.4671587944030762,\n",
       "  1.2797858715057373)}"
      ]
     },
     "execution_count": 9,
     "metadata": {},
     "output_type": "execute_result"
    }
   ],
   "source": [
    "#cross validate to ensure accuracy and consistency\n",
    "from surprise.model_selection import cross_validate\n",
    "\n",
    "cross_validate(model, data, measures=['RMSE', 'MAE'], cv=5, verbose=True)\n"
   ]
  },
  {
   "cell_type": "code",
   "execution_count": 10,
   "metadata": {},
   "outputs": [
    {
     "name": "stdout",
     "output_type": "stream",
     "text": [
      "Evaluating RMSE, MAE of algorithm NormalPredictor on 5 split(s).\n",
      "\n",
      "                  Fold 1  Fold 2  Fold 3  Fold 4  Fold 5  Mean    Std     \n",
      "RMSE (testset)    2.4892  2.5102  2.5025  2.5028  2.5063  2.5022  0.0071  \n",
      "MAE (testset)     1.9861  2.0043  1.9955  2.0023  2.0044  1.9985  0.0070  \n",
      "Fit time          0.62    0.66    0.63    0.65    0.61    0.63    0.02    \n",
      "Test time         0.56    0.44    0.34    0.43    0.35    0.42    0.08    \n"
     ]
    },
    {
     "data": {
      "text/plain": [
       "{'test_rmse': array([2.48923733, 2.510236  , 2.50248178, 2.50278626, 2.50629435]),\n",
       " 'test_mae': array([1.98606701, 2.00429578, 1.99550511, 2.00230514, 2.00437484]),\n",
       " 'fit_time': (0.6169822216033936,\n",
       "  0.6634888648986816,\n",
       "  0.6344468593597412,\n",
       "  0.6487267017364502,\n",
       "  0.609910249710083),\n",
       " 'test_time': (0.5579090118408203,\n",
       "  0.4397094249725342,\n",
       "  0.3436148166656494,\n",
       "  0.4331638813018799,\n",
       "  0.35027337074279785)}"
      ]
     },
     "execution_count": 10,
     "metadata": {},
     "output_type": "execute_result"
    }
   ],
   "source": [
    "#random predictions for comparison, svd performs better\n",
    "from surprise import NormalPredictor\n",
    "\n",
    "random_model = NormalPredictor()  \n",
    "cross_validate(random_model, data, measures=['RMSE', 'MAE'], cv=5, verbose=True)\n"
   ]
  },
  {
   "cell_type": "code",
   "execution_count": 11,
   "metadata": {},
   "outputs": [
    {
     "name": "stdout",
     "output_type": "stream",
     "text": [
      "Evaluating RMSE, MAE of algorithm MeanPredictor on 5 split(s).\n",
      "\n",
      "                  Fold 1  Fold 2  Fold 3  Fold 4  Fold 5  Mean    Std     \n",
      "RMSE (testset)    1.8403  1.8368  1.8497  1.8364  1.8435  1.8413  0.0049  \n",
      "MAE (testset)     1.4950  1.4915  1.4973  1.4909  1.4965  1.4942  0.0026  \n",
      "Fit time          0.21    0.38    0.40    0.41    0.39    0.36    0.07    \n",
      "Test time         0.25    0.25    0.25    0.27    0.24    0.25    0.01    \n"
     ]
    }
   ],
   "source": [
    "from surprise import AlgoBase\n",
    "\n",
    "#estimates rating using global mean\n",
    "class MeanPredictor(AlgoBase):\n",
    "    def __init__(self):\n",
    "        AlgoBase.__init__(self)\n",
    "\n",
    "    def fit(self, trainset):\n",
    "        AlgoBase.fit(self, trainset)\n",
    "        self.global_mean = trainset.global_mean\n",
    "        return self\n",
    "\n",
    "    def estimate(self, u, i):\n",
    "        return self.global_mean\n",
    "\n",
    "\n",
    "baseline_model = MeanPredictor()\n",
    "\n",
    "#check accuracy and consistency, svd performs better\n",
    "cv_results = cross_validate(baseline_model, data, measures=['RMSE', 'MAE'], cv=5, verbose=True)\n",
    "\n"
   ]
  },
  {
   "cell_type": "code",
   "execution_count": 12,
   "metadata": {},
   "outputs": [
    {
     "name": "stdout",
     "output_type": "stream",
     "text": [
      "Estimating biases using als...\n",
      "Computing the pearson_baseline similarity matrix...\n",
      "Done computing similarity matrix.\n",
      "Estimating biases using als...\n",
      "Computing the pearson_baseline similarity matrix...\n",
      "Done computing similarity matrix.\n",
      "Estimating biases using als...\n",
      "Computing the pearson_baseline similarity matrix...\n",
      "Done computing similarity matrix.\n",
      "Estimating biases using als...\n",
      "Computing the pearson_baseline similarity matrix...\n",
      "Done computing similarity matrix.\n",
      "Estimating biases using als...\n",
      "Computing the pearson_baseline similarity matrix...\n",
      "Done computing similarity matrix.\n",
      "Evaluating RMSE, MAE of algorithm KNNBaseline on 5 split(s).\n",
      "\n",
      "                  Fold 1  Fold 2  Fold 3  Fold 4  Fold 5  Mean    Std     \n",
      "RMSE (testset)    1.7299  1.7308  1.7396  1.7393  1.7536  1.7386  0.0085  \n",
      "MAE (testset)     1.3222  1.3198  1.3193  1.3247  1.3353  1.3242  0.0058  \n",
      "Fit time          43.95   28.70   37.28   41.53   35.02   37.30   5.31    \n",
      "Test time         3.86    1.68    1.81    2.08    1.58    2.20    0.85    \n"
     ]
    }
   ],
   "source": [
    "from surprise import KNNBaseline\n",
    "\n",
    "#filter dataset to save on memory and eliminate noise\n",
    "df_filtered = df.groupby('User-ID').filter(lambda x: len(x) >= 3)\n",
    "df_filtered = df_filtered.groupby('ISBN').filter(lambda x: len(x) >= 10)\n",
    "\n",
    "\n",
    "reader = Reader(rating_scale=(df_filtered['Book-Rating'].min(), df_filtered['Book-Rating'].max()))\n",
    "data = Dataset.load_from_df(df_filtered[['User-ID', 'ISBN', 'Book-Rating']], reader)\n",
    "\n",
    "#pearson similarity between users\n",
    "sim_options = {\n",
    "    'name': 'pearson_baseline', \n",
    "    'user_based': True \n",
    "}\n",
    "\n",
    "knn_baseline = KNNBaseline(sim_options=sim_options)\n",
    "\n",
    "#cross-validate for accuaracy and consistency, svd performs better\n",
    "cv_results_knn = cross_validate(knn_baseline, data, measures=['RMSE', 'MAE'], cv=5, verbose=True)\n",
    "\n"
   ]
  },
  {
   "cell_type": "code",
   "execution_count": 13,
   "metadata": {},
   "outputs": [],
   "source": [
    "# #make svd model file, prevent overwriting\n",
    "# import pickle\n",
    "\n",
    "# with open('svd_model.pkl', 'wb') as file:\n",
    "#     pickle.dump(model, file)"
   ]
  }
 ],
 "metadata": {
  "kernelspec": {
   "display_name": ".venv",
   "language": "python",
   "name": "python3"
  },
  "language_info": {
   "codemirror_mode": {
    "name": "ipython",
    "version": 3
   },
   "file_extension": ".py",
   "mimetype": "text/x-python",
   "name": "python",
   "nbconvert_exporter": "python",
   "pygments_lexer": "ipython3",
   "version": "3.12.4"
  }
 },
 "nbformat": 4,
 "nbformat_minor": 2
}
