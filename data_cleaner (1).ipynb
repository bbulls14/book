{
 "cells": [
  {
   "cell_type": "code",
   "execution_count": 1,
   "id": "c0dc2563-b889-4a9e-b564-d8a0c7a2ee4f",
   "metadata": {
    "tags": []
   },
   "outputs": [
    {
     "name": "stdout",
     "output_type": "stream",
     "text": [
      "   User-ID        ISBN  Book-Rating\n",
      "0   276725  034545104X            0\n",
      "1   276726  0155061224            5\n",
      "2   276727  0446520802            0\n",
      "3   276729  052165615X            3\n",
      "4   276729  0521795028            6\n",
      "         ISBN                                         Book-Title  \\\n",
      "0  0195153448                                Classical Mythology   \n",
      "1  0002005018                                       Clara Callan   \n",
      "2  0060973129                               Decision in Normandy   \n",
      "3  0374157065  Flu: The Story of the Great Influenza Pandemic...   \n",
      "4  0393045218                             The Mummies of Urumchi   \n",
      "\n",
      "            Book-Author Year-Of-Publication                   Publisher  \\\n",
      "0    Mark P. O. Morford                2002     Oxford University Press   \n",
      "1  Richard Bruce Wright                2001       HarperFlamingo Canada   \n",
      "2          Carlo D'Este                1991             HarperPerennial   \n",
      "3      Gina Bari Kolata                1999        Farrar Straus Giroux   \n",
      "4       E. J. W. Barber                1999  W. W. Norton &amp; Company   \n",
      "\n",
      "                                         Image-URL-S  \\\n",
      "0  http://images.amazon.com/images/P/0195153448.0...   \n",
      "1  http://images.amazon.com/images/P/0002005018.0...   \n",
      "2  http://images.amazon.com/images/P/0060973129.0...   \n",
      "3  http://images.amazon.com/images/P/0374157065.0...   \n",
      "4  http://images.amazon.com/images/P/0393045218.0...   \n",
      "\n",
      "                                         Image-URL-M  \\\n",
      "0  http://images.amazon.com/images/P/0195153448.0...   \n",
      "1  http://images.amazon.com/images/P/0002005018.0...   \n",
      "2  http://images.amazon.com/images/P/0060973129.0...   \n",
      "3  http://images.amazon.com/images/P/0374157065.0...   \n",
      "4  http://images.amazon.com/images/P/0393045218.0...   \n",
      "\n",
      "                                         Image-URL-L  \n",
      "0  http://images.amazon.com/images/P/0195153448.0...  \n",
      "1  http://images.amazon.com/images/P/0002005018.0...  \n",
      "2  http://images.amazon.com/images/P/0060973129.0...  \n",
      "3  http://images.amazon.com/images/P/0374157065.0...  \n",
      "4  http://images.amazon.com/images/P/0393045218.0...  \n",
      "   User-ID                            Location   Age\n",
      "0        1                  nyc, new york, usa   NaN\n",
      "1        2           stockton, california, usa  18.0\n",
      "2        3     moscow, yukon territory, russia   NaN\n",
      "3        4           porto, v.n.gaia, portugal  17.0\n",
      "4        5  farnborough, hants, united kingdom   NaN\n"
     ]
    }
   ],
   "source": [
    "import pandas as pd\n",
    "\n",
    "books = pd.read_csv('Books.csv', low_memory=False)\n",
    "ratings = pd.read_csv('Ratings.csv', low_memory=False)\n",
    "users = pd.read_csv('Users.csv', low_memory=False)\n",
    "\n",
    "print(ratings.head())\n",
    "print(books.head())\n",
    "print(users.head())"
   ]
  },
  {
   "cell_type": "code",
   "execution_count": 2,
   "id": "eaba889d-5ebd-46e1-b438-04baabd8b6c2",
   "metadata": {
    "tags": []
   },
   "outputs": [
    {
     "name": "stdout",
     "output_type": "stream",
     "text": [
      "<class 'pandas.core.frame.DataFrame'>\n",
      "RangeIndex: 271360 entries, 0 to 271359\n",
      "Data columns (total 8 columns):\n",
      " #   Column               Non-Null Count   Dtype \n",
      "---  ------               --------------   ----- \n",
      " 0   ISBN                 271360 non-null  object\n",
      " 1   Book-Title           271360 non-null  object\n",
      " 2   Book-Author          271358 non-null  object\n",
      " 3   Year-Of-Publication  271360 non-null  object\n",
      " 4   Publisher            271358 non-null  object\n",
      " 5   Image-URL-S          271360 non-null  object\n",
      " 6   Image-URL-M          271360 non-null  object\n",
      " 7   Image-URL-L          271357 non-null  object\n",
      "dtypes: object(8)\n",
      "memory usage: 16.6+ MB\n",
      "None\n"
     ]
    },
    {
     "data": {
      "text/html": [
       "<div>\n",
       "<style scoped>\n",
       "    .dataframe tbody tr th:only-of-type {\n",
       "        vertical-align: middle;\n",
       "    }\n",
       "\n",
       "    .dataframe tbody tr th {\n",
       "        vertical-align: top;\n",
       "    }\n",
       "\n",
       "    .dataframe thead th {\n",
       "        text-align: right;\n",
       "    }\n",
       "</style>\n",
       "<table border=\"1\" class=\"dataframe\">\n",
       "  <thead>\n",
       "    <tr style=\"text-align: right;\">\n",
       "      <th></th>\n",
       "      <th>ISBN</th>\n",
       "      <th>Book-Title</th>\n",
       "      <th>Book-Author</th>\n",
       "      <th>Year-Of-Publication</th>\n",
       "      <th>Publisher</th>\n",
       "      <th>Image-URL-S</th>\n",
       "      <th>Image-URL-M</th>\n",
       "      <th>Image-URL-L</th>\n",
       "    </tr>\n",
       "  </thead>\n",
       "  <tbody>\n",
       "    <tr>\n",
       "      <th>count</th>\n",
       "      <td>271360</td>\n",
       "      <td>271360</td>\n",
       "      <td>271358</td>\n",
       "      <td>271360</td>\n",
       "      <td>271358</td>\n",
       "      <td>271360</td>\n",
       "      <td>271360</td>\n",
       "      <td>271357</td>\n",
       "    </tr>\n",
       "    <tr>\n",
       "      <th>unique</th>\n",
       "      <td>271360</td>\n",
       "      <td>242135</td>\n",
       "      <td>102022</td>\n",
       "      <td>118</td>\n",
       "      <td>16807</td>\n",
       "      <td>271044</td>\n",
       "      <td>271044</td>\n",
       "      <td>271041</td>\n",
       "    </tr>\n",
       "    <tr>\n",
       "      <th>top</th>\n",
       "      <td>0195153448</td>\n",
       "      <td>Selected Poems</td>\n",
       "      <td>Agatha Christie</td>\n",
       "      <td>2002</td>\n",
       "      <td>Harlequin</td>\n",
       "      <td>http://images.amazon.com/images/P/185326119X.0...</td>\n",
       "      <td>http://images.amazon.com/images/P/185326119X.0...</td>\n",
       "      <td>http://images.amazon.com/images/P/225307649X.0...</td>\n",
       "    </tr>\n",
       "    <tr>\n",
       "      <th>freq</th>\n",
       "      <td>1</td>\n",
       "      <td>27</td>\n",
       "      <td>632</td>\n",
       "      <td>17627</td>\n",
       "      <td>7535</td>\n",
       "      <td>2</td>\n",
       "      <td>2</td>\n",
       "      <td>2</td>\n",
       "    </tr>\n",
       "  </tbody>\n",
       "</table>\n",
       "</div>"
      ],
      "text/plain": [
       "              ISBN      Book-Title      Book-Author Year-Of-Publication  \\\n",
       "count       271360          271360           271358              271360   \n",
       "unique      271360          242135           102022                 118   \n",
       "top     0195153448  Selected Poems  Agatha Christie                2002   \n",
       "freq             1              27              632               17627   \n",
       "\n",
       "        Publisher                                        Image-URL-S  \\\n",
       "count      271358                                             271360   \n",
       "unique      16807                                             271044   \n",
       "top     Harlequin  http://images.amazon.com/images/P/185326119X.0...   \n",
       "freq         7535                                                  2   \n",
       "\n",
       "                                              Image-URL-M  \\\n",
       "count                                              271360   \n",
       "unique                                             271044   \n",
       "top     http://images.amazon.com/images/P/185326119X.0...   \n",
       "freq                                                    2   \n",
       "\n",
       "                                              Image-URL-L  \n",
       "count                                              271357  \n",
       "unique                                             271041  \n",
       "top     http://images.amazon.com/images/P/225307649X.0...  \n",
       "freq                                                    2  "
      ]
     },
     "execution_count": 2,
     "metadata": {},
     "output_type": "execute_result"
    }
   ],
   "source": [
    "print(books.info())\n",
    "\n",
    "books.describe()\n",
    "#ISBNs shown to be unique -> freq 1"
   ]
  },
  {
   "cell_type": "code",
   "execution_count": 3,
   "id": "84621299-56b4-4215-919c-33ad785fcfb0",
   "metadata": {
    "tags": []
   },
   "outputs": [
    {
     "name": "stdout",
     "output_type": "stream",
     "text": [
      "         ISBN           Book-Title         Book-Author Year-Of-Publication  \\\n",
      "0  0195153448  Classical Mythology  Mark P. O. Morford                2002   \n",
      "\n",
      "                 Publisher  \n",
      "0  Oxford University Press  \n"
     ]
    }
   ],
   "source": [
    "books = books.drop(['Image-URL-S', 'Image-URL-M', 'Image-URL-L'], axis=1)\n",
    "\n",
    "print(books.head(1))"
   ]
  },
  {
   "cell_type": "code",
   "execution_count": 4,
   "id": "5006938c-10ed-4a84-b9f3-db1dd6914921",
   "metadata": {},
   "outputs": [],
   "source": [
    "#Capitalize ISBN, Book-Title, Book-Author, Publisher\n",
    "books['ISBN']=books['ISBN'].str.upper()\n",
    "books['Book-Title']=books['Book-Title'].str.upper()\n",
    "books['Book-Author']=books['Book-Author'].str.upper()\n",
    "books['Publisher']=books['Publisher'].str.upper()"
   ]
  },
  {
   "cell_type": "code",
   "execution_count": 5,
   "id": "b710a889-2851-467e-990b-f9b0b4be4f65",
   "metadata": {
    "tags": []
   },
   "outputs": [
    {
     "data": {
      "text/html": [
       "<div>\n",
       "<style scoped>\n",
       "    .dataframe tbody tr th:only-of-type {\n",
       "        vertical-align: middle;\n",
       "    }\n",
       "\n",
       "    .dataframe tbody tr th {\n",
       "        vertical-align: top;\n",
       "    }\n",
       "\n",
       "    .dataframe thead th {\n",
       "        text-align: right;\n",
       "    }\n",
       "</style>\n",
       "<table border=\"1\" class=\"dataframe\">\n",
       "  <thead>\n",
       "    <tr style=\"text-align: right;\">\n",
       "      <th></th>\n",
       "      <th>ISBN</th>\n",
       "      <th>Book-Title</th>\n",
       "      <th>Book-Author</th>\n",
       "      <th>Year-Of-Publication</th>\n",
       "      <th>Publisher</th>\n",
       "    </tr>\n",
       "  </thead>\n",
       "  <tbody>\n",
       "    <tr>\n",
       "      <th>118033</th>\n",
       "      <td>0751352497</td>\n",
       "      <td>A+ QUIZ MASTERS:01 EARTH</td>\n",
       "      <td>NaN</td>\n",
       "      <td>1999</td>\n",
       "      <td>DORLING KINDERSLEY</td>\n",
       "    </tr>\n",
       "    <tr>\n",
       "      <th>187689</th>\n",
       "      <td>9627982032</td>\n",
       "      <td>THE CREDIT SUISSE GUIDE TO MANAGING YOUR PERSO...</td>\n",
       "      <td>NaN</td>\n",
       "      <td>1995</td>\n",
       "      <td>EDINBURGH FINANCIAL PUBLISHING</td>\n",
       "    </tr>\n",
       "  </tbody>\n",
       "</table>\n",
       "</div>"
      ],
      "text/plain": [
       "              ISBN                                         Book-Title  \\\n",
       "118033  0751352497                           A+ QUIZ MASTERS:01 EARTH   \n",
       "187689  9627982032  THE CREDIT SUISSE GUIDE TO MANAGING YOUR PERSO...   \n",
       "\n",
       "       Book-Author Year-Of-Publication                       Publisher  \n",
       "118033         NaN                1999              DORLING KINDERSLEY  \n",
       "187689         NaN                1995  EDINBURGH FINANCIAL PUBLISHING  "
      ]
     },
     "execution_count": 5,
     "metadata": {},
     "output_type": "execute_result"
    }
   ],
   "source": [
    "books[books['Book-Author'].isna()]"
   ]
  },
  {
   "cell_type": "code",
   "execution_count": 6,
   "id": "5761a5ed-a63c-4d79-b71e-67151bb9dc90",
   "metadata": {
    "tags": []
   },
   "outputs": [
    {
     "data": {
      "text/html": [
       "<div>\n",
       "<style scoped>\n",
       "    .dataframe tbody tr th:only-of-type {\n",
       "        vertical-align: middle;\n",
       "    }\n",
       "\n",
       "    .dataframe tbody tr th {\n",
       "        vertical-align: top;\n",
       "    }\n",
       "\n",
       "    .dataframe thead th {\n",
       "        text-align: right;\n",
       "    }\n",
       "</style>\n",
       "<table border=\"1\" class=\"dataframe\">\n",
       "  <thead>\n",
       "    <tr style=\"text-align: right;\">\n",
       "      <th></th>\n",
       "      <th>ISBN</th>\n",
       "      <th>Book-Title</th>\n",
       "      <th>Book-Author</th>\n",
       "      <th>Year-Of-Publication</th>\n",
       "      <th>Publisher</th>\n",
       "    </tr>\n",
       "  </thead>\n",
       "  <tbody>\n",
       "  </tbody>\n",
       "</table>\n",
       "</div>"
      ],
      "text/plain": [
       "Empty DataFrame\n",
       "Columns: [ISBN, Book-Title, Book-Author, Year-Of-Publication, Publisher]\n",
       "Index: []"
      ]
     },
     "execution_count": 6,
     "metadata": {},
     "output_type": "execute_result"
    }
   ],
   "source": [
    "books.loc[118033, 'Book-Author'] = \"NONE\"\n",
    "books.loc[187689, 'Book-Author'] = 'LARISSA ANNE DOWNES'\n",
    "\n",
    "books[books['Book-Author'].isna()]"
   ]
  },
  {
   "cell_type": "code",
   "execution_count": 7,
   "id": "73885d9b-d00d-4231-a0c3-1f1e5ba4e6a6",
   "metadata": {
    "tags": []
   },
   "outputs": [
    {
     "data": {
      "text/html": [
       "<div>\n",
       "<style scoped>\n",
       "    .dataframe tbody tr th:only-of-type {\n",
       "        vertical-align: middle;\n",
       "    }\n",
       "\n",
       "    .dataframe tbody tr th {\n",
       "        vertical-align: top;\n",
       "    }\n",
       "\n",
       "    .dataframe thead th {\n",
       "        text-align: right;\n",
       "    }\n",
       "</style>\n",
       "<table border=\"1\" class=\"dataframe\">\n",
       "  <thead>\n",
       "    <tr style=\"text-align: right;\">\n",
       "      <th></th>\n",
       "      <th>ISBN</th>\n",
       "      <th>Book-Title</th>\n",
       "      <th>Book-Author</th>\n",
       "      <th>Year-Of-Publication</th>\n",
       "      <th>Publisher</th>\n",
       "    </tr>\n",
       "  </thead>\n",
       "  <tbody>\n",
       "    <tr>\n",
       "      <th>128890</th>\n",
       "      <td>193169656X</td>\n",
       "      <td>TYRANT MOON</td>\n",
       "      <td>ELAINE CORVIDAE</td>\n",
       "      <td>2002</td>\n",
       "      <td>NaN</td>\n",
       "    </tr>\n",
       "    <tr>\n",
       "      <th>129037</th>\n",
       "      <td>1931696993</td>\n",
       "      <td>FINDERS KEEPERS</td>\n",
       "      <td>LINNEA SINCLAIR</td>\n",
       "      <td>2001</td>\n",
       "      <td>NaN</td>\n",
       "    </tr>\n",
       "  </tbody>\n",
       "</table>\n",
       "</div>"
      ],
      "text/plain": [
       "              ISBN       Book-Title      Book-Author Year-Of-Publication  \\\n",
       "128890  193169656X      TYRANT MOON  ELAINE CORVIDAE                2002   \n",
       "129037  1931696993  FINDERS KEEPERS  LINNEA SINCLAIR                2001   \n",
       "\n",
       "       Publisher  \n",
       "128890       NaN  \n",
       "129037       NaN  "
      ]
     },
     "execution_count": 7,
     "metadata": {},
     "output_type": "execute_result"
    }
   ],
   "source": [
    "books[books['Publisher'].isna()]"
   ]
  },
  {
   "cell_type": "code",
   "execution_count": 8,
   "id": "b43ef0a6-b4a9-40ba-b15f-651e159dc641",
   "metadata": {
    "tags": []
   },
   "outputs": [
    {
     "data": {
      "text/html": [
       "<div>\n",
       "<style scoped>\n",
       "    .dataframe tbody tr th:only-of-type {\n",
       "        vertical-align: middle;\n",
       "    }\n",
       "\n",
       "    .dataframe tbody tr th {\n",
       "        vertical-align: top;\n",
       "    }\n",
       "\n",
       "    .dataframe thead th {\n",
       "        text-align: right;\n",
       "    }\n",
       "</style>\n",
       "<table border=\"1\" class=\"dataframe\">\n",
       "  <thead>\n",
       "    <tr style=\"text-align: right;\">\n",
       "      <th></th>\n",
       "      <th>ISBN</th>\n",
       "      <th>Book-Title</th>\n",
       "      <th>Book-Author</th>\n",
       "      <th>Year-Of-Publication</th>\n",
       "      <th>Publisher</th>\n",
       "    </tr>\n",
       "  </thead>\n",
       "  <tbody>\n",
       "  </tbody>\n",
       "</table>\n",
       "</div>"
      ],
      "text/plain": [
       "Empty DataFrame\n",
       "Columns: [ISBN, Book-Title, Book-Author, Year-Of-Publication, Publisher]\n",
       "Index: []"
      ]
     },
     "execution_count": 8,
     "metadata": {},
     "output_type": "execute_result"
    }
   ],
   "source": [
    "books.loc[128890, 'Publisher'] = 'MUNDANIA PRESS LLC'\n",
    "books.loc[129037, 'Publisher'] = 'BANTAM'\n",
    "\n",
    "books[books['Publisher'].isna()]"
   ]
  },
  {
   "cell_type": "code",
   "execution_count": 9,
   "id": "9f730cb2-694e-42ed-8af2-9210639935ae",
   "metadata": {
    "tags": []
   },
   "outputs": [
    {
     "name": "stdout",
     "output_type": "stream",
     "text": [
      "0\n"
     ]
    },
    {
     "data": {
      "text/plain": [
       "array(['2002', '2001', '1991', '1999', '2000', '1993', '1996', '1988',\n",
       "       '2004', '1998', '1994', '2003', '1997', '1983', '1979', '1995',\n",
       "       '1982', '1985', '1992', '1986', '1978', '1980', '1952', '1987',\n",
       "       '1990', '1981', '1989', '1984', '0', '1968', '1961', '1958',\n",
       "       '1974', '1976', '1971', '1977', '1975', '1965', '1941', '1970',\n",
       "       '1962', '1973', '1972', '1960', '1966', '1920', '1956', '1959',\n",
       "       '1953', '1951', '1942', '1963', '1964', '1969', '1954', '1950',\n",
       "       '1967', '2005', '1957', '1940', '1937', '1955', '1946', '1936',\n",
       "       '1930', '2011', '1925', '1948', '1943', '1947', '1945', '1923',\n",
       "       '2020', '1939', '1926', '1938', '2030', '1911', '1904', '1949',\n",
       "       '1932', '1928', '1929', '1927', '1931', '1914', '2050', '1934',\n",
       "       '1910', '1933', '1902', '1924', '1921', '1900', '2038', '2026',\n",
       "       '1944', '1917', '1901', '2010', '1908', '1906', '1935', '1806',\n",
       "       '2021', '2012', '2006', 'DK Publishing Inc', 'Gallimard', '1909',\n",
       "       '2008', '1378', '1919', '1922', '1897', '2024', '1376', '2037'],\n",
       "      dtype=object)"
      ]
     },
     "execution_count": 9,
     "metadata": {},
     "output_type": "execute_result"
    }
   ],
   "source": [
    "print(books['Year-Of-Publication'].isna().sum())\n",
    "books['Year-Of-Publication'].unique()\n",
    "#Fix Publisher, values > 2024,, and values==0"
   ]
  },
  {
   "cell_type": "code",
   "execution_count": 10,
   "id": "782db483-5e9d-4316-afa0-c38dfe250c20",
   "metadata": {
    "tags": []
   },
   "outputs": [
    {
     "data": {
      "text/html": [
       "<div>\n",
       "<style scoped>\n",
       "    .dataframe tbody tr th:only-of-type {\n",
       "        vertical-align: middle;\n",
       "    }\n",
       "\n",
       "    .dataframe tbody tr th {\n",
       "        vertical-align: top;\n",
       "    }\n",
       "\n",
       "    .dataframe thead th {\n",
       "        text-align: right;\n",
       "    }\n",
       "</style>\n",
       "<table border=\"1\" class=\"dataframe\">\n",
       "  <thead>\n",
       "    <tr style=\"text-align: right;\">\n",
       "      <th></th>\n",
       "      <th>ISBN</th>\n",
       "      <th>Book-Title</th>\n",
       "      <th>Book-Author</th>\n",
       "      <th>Year-Of-Publication</th>\n",
       "      <th>Publisher</th>\n",
       "    </tr>\n",
       "  </thead>\n",
       "  <tbody>\n",
       "    <tr>\n",
       "      <th>209538</th>\n",
       "      <td>078946697X</td>\n",
       "      <td>DK READERS: CREATING THE X-MEN, HOW IT ALL BEG...</td>\n",
       "      <td>2000</td>\n",
       "      <td>DK Publishing Inc</td>\n",
       "      <td>HTTP://IMAGES.AMAZON.COM/IMAGES/P/078946697X.0...</td>\n",
       "    </tr>\n",
       "    <tr>\n",
       "      <th>221678</th>\n",
       "      <td>0789466953</td>\n",
       "      <td>DK READERS: CREATING THE X-MEN, HOW COMIC BOOK...</td>\n",
       "      <td>2000</td>\n",
       "      <td>DK Publishing Inc</td>\n",
       "      <td>HTTP://IMAGES.AMAZON.COM/IMAGES/P/0789466953.0...</td>\n",
       "    </tr>\n",
       "  </tbody>\n",
       "</table>\n",
       "</div>"
      ],
      "text/plain": [
       "              ISBN                                         Book-Title  \\\n",
       "209538  078946697X  DK READERS: CREATING THE X-MEN, HOW IT ALL BEG...   \n",
       "221678  0789466953  DK READERS: CREATING THE X-MEN, HOW COMIC BOOK...   \n",
       "\n",
       "       Book-Author Year-Of-Publication  \\\n",
       "209538        2000   DK Publishing Inc   \n",
       "221678        2000   DK Publishing Inc   \n",
       "\n",
       "                                                Publisher  \n",
       "209538  HTTP://IMAGES.AMAZON.COM/IMAGES/P/078946697X.0...  \n",
       "221678  HTTP://IMAGES.AMAZON.COM/IMAGES/P/0789466953.0...  "
      ]
     },
     "execution_count": 10,
     "metadata": {},
     "output_type": "execute_result"
    }
   ],
   "source": [
    "books[books['Year-Of-Publication'] == 'DK Publishing Inc']"
   ]
  },
  {
   "cell_type": "code",
   "execution_count": 11,
   "id": "fe6103cb-337f-49c2-bb01-5b64420f21b0",
   "metadata": {
    "tags": []
   },
   "outputs": [],
   "source": [
    "#ISBN 078946697X\n",
    "books.loc[books.ISBN == '078946697X','Year-Of-Publication'] = 2000\n",
    "books.loc[books.ISBN == '078946697X','Book-Author'] = \"MICHAEL TEITELBAUM\"\n",
    "books.loc[books.ISBN == '078946697X','Publisher'] = \"DK PUBLISHING INC\"\n",
    "books.loc[books.ISBN == '078946697X','Book-Title'] = \"DK READERS: CREATING THE X-MEN, HOW IT ALL BEGAN (LEVEL 4: PROFICIENT READERS)\"\n",
    "\n",
    "#ISBN 0789466953\n",
    "books.loc[books.ISBN == '0789466953','Year-Of-Publication'] = 2000\n",
    "books.loc[books.ISBN == '0789466953','Book-Author'] = \"JAMES BUCKLEY\"\n",
    "books.loc[books.ISBN == '0789466953','Publisher'] = \"DK PUBLISHING INC\"\n",
    "books.loc[books.ISBN == '0789466953','Book-Title'] = \"DK READERS: CREATING THE X-MEN, HOW COMIC BOOKS COME TO LIFE (LEVEL 4: PROFICIENT READERS)\""
   ]
  },
  {
   "cell_type": "code",
   "execution_count": 12,
   "id": "d9566ce6-f911-4a86-88d9-658d5d95dc6a",
   "metadata": {
    "tags": []
   },
   "outputs": [
    {
     "data": {
      "text/html": [
       "<div>\n",
       "<style scoped>\n",
       "    .dataframe tbody tr th:only-of-type {\n",
       "        vertical-align: middle;\n",
       "    }\n",
       "\n",
       "    .dataframe tbody tr th {\n",
       "        vertical-align: top;\n",
       "    }\n",
       "\n",
       "    .dataframe thead th {\n",
       "        text-align: right;\n",
       "    }\n",
       "</style>\n",
       "<table border=\"1\" class=\"dataframe\">\n",
       "  <thead>\n",
       "    <tr style=\"text-align: right;\">\n",
       "      <th></th>\n",
       "      <th>ISBN</th>\n",
       "      <th>Book-Title</th>\n",
       "      <th>Book-Author</th>\n",
       "      <th>Year-Of-Publication</th>\n",
       "      <th>Publisher</th>\n",
       "    </tr>\n",
       "  </thead>\n",
       "  <tbody>\n",
       "    <tr>\n",
       "      <th>220731</th>\n",
       "      <td>2070426769</td>\n",
       "      <td>PEUPLE DU CIEL, SUIVI DE 'LES BERGERS\\\";JEAN-M...</td>\n",
       "      <td>2003</td>\n",
       "      <td>Gallimard</td>\n",
       "      <td>HTTP://IMAGES.AMAZON.COM/IMAGES/P/2070426769.0...</td>\n",
       "    </tr>\n",
       "  </tbody>\n",
       "</table>\n",
       "</div>"
      ],
      "text/plain": [
       "              ISBN                                         Book-Title  \\\n",
       "220731  2070426769  PEUPLE DU CIEL, SUIVI DE 'LES BERGERS\\\";JEAN-M...   \n",
       "\n",
       "       Book-Author Year-Of-Publication  \\\n",
       "220731        2003           Gallimard   \n",
       "\n",
       "                                                Publisher  \n",
       "220731  HTTP://IMAGES.AMAZON.COM/IMAGES/P/2070426769.0...  "
      ]
     },
     "execution_count": 12,
     "metadata": {},
     "output_type": "execute_result"
    }
   ],
   "source": [
    "books[books['Year-Of-Publication'] == 'Gallimard']"
   ]
  },
  {
   "cell_type": "code",
   "execution_count": 13,
   "id": "1de5b5c6-f299-43f6-92e5-329cac9bba7a",
   "metadata": {
    "tags": []
   },
   "outputs": [],
   "source": [
    "#ISBN 2070426769\n",
    "books.loc[books.ISBN=='2070426769','Year-Of-Publication']=2003\n",
    "books.loc[books.ISBN=='2070426769','Book-Author']='JEAN-MARIE GUSTAVE LE CLEZIO'\n",
    "books.loc[books.ISBN=='2070426769','Publisher']='GALLIMARD'\n",
    "books.loc[books.ISBN=='2070426769','Book-Title']=\"PEUPLE DU CIEL, SUIVI DE 'LES BERGERS\""
   ]
  },
  {
   "cell_type": "code",
   "execution_count": 14,
   "id": "b5bdf1c0-7432-4dde-b92e-8cb030f2a614",
   "metadata": {
    "tags": []
   },
   "outputs": [
    {
     "data": {
      "text/html": [
       "<div>\n",
       "<style scoped>\n",
       "    .dataframe tbody tr th:only-of-type {\n",
       "        vertical-align: middle;\n",
       "    }\n",
       "\n",
       "    .dataframe tbody tr th {\n",
       "        vertical-align: top;\n",
       "    }\n",
       "\n",
       "    .dataframe thead th {\n",
       "        text-align: right;\n",
       "    }\n",
       "</style>\n",
       "<table border=\"1\" class=\"dataframe\">\n",
       "  <thead>\n",
       "    <tr style=\"text-align: right;\">\n",
       "      <th></th>\n",
       "      <th>ISBN</th>\n",
       "      <th>Book-Title</th>\n",
       "      <th>Book-Author</th>\n",
       "      <th>Year-Of-Publication</th>\n",
       "      <th>Publisher</th>\n",
       "    </tr>\n",
       "  </thead>\n",
       "  <tbody>\n",
       "    <tr>\n",
       "      <th>209538</th>\n",
       "      <td>078946697X</td>\n",
       "      <td>DK READERS: CREATING THE X-MEN, HOW IT ALL BEG...</td>\n",
       "      <td>MICHAEL TEITELBAUM</td>\n",
       "      <td>2000</td>\n",
       "      <td>DK PUBLISHING INC</td>\n",
       "    </tr>\n",
       "    <tr>\n",
       "      <th>220731</th>\n",
       "      <td>2070426769</td>\n",
       "      <td>PEUPLE DU CIEL, SUIVI DE 'LES BERGERS</td>\n",
       "      <td>JEAN-MARIE GUSTAVE LE CLEZIO</td>\n",
       "      <td>2003</td>\n",
       "      <td>GALLIMARD</td>\n",
       "    </tr>\n",
       "    <tr>\n",
       "      <th>221678</th>\n",
       "      <td>0789466953</td>\n",
       "      <td>DK READERS: CREATING THE X-MEN, HOW COMIC BOOK...</td>\n",
       "      <td>JAMES BUCKLEY</td>\n",
       "      <td>2000</td>\n",
       "      <td>DK PUBLISHING INC</td>\n",
       "    </tr>\n",
       "  </tbody>\n",
       "</table>\n",
       "</div>"
      ],
      "text/plain": [
       "              ISBN                                         Book-Title  \\\n",
       "209538  078946697X  DK READERS: CREATING THE X-MEN, HOW IT ALL BEG...   \n",
       "220731  2070426769              PEUPLE DU CIEL, SUIVI DE 'LES BERGERS   \n",
       "221678  0789466953  DK READERS: CREATING THE X-MEN, HOW COMIC BOOK...   \n",
       "\n",
       "                         Book-Author Year-Of-Publication          Publisher  \n",
       "209538            MICHAEL TEITELBAUM                2000  DK PUBLISHING INC  \n",
       "220731  JEAN-MARIE GUSTAVE LE CLEZIO                2003          GALLIMARD  \n",
       "221678                 JAMES BUCKLEY                2000  DK PUBLISHING INC  "
      ]
     },
     "execution_count": 14,
     "metadata": {},
     "output_type": "execute_result"
    }
   ],
   "source": [
    "books.loc[books['ISBN'].isin(['2070426769','0789466953','078946697X'])]"
   ]
  },
  {
   "cell_type": "code",
   "execution_count": 15,
   "id": "f28d6fa7-e116-4eb0-a5ad-67494f595990",
   "metadata": {
    "tags": []
   },
   "outputs": [
    {
     "name": "stdout",
     "output_type": "stream",
     "text": [
      "['2002' '2001' '1991' '1999' '2000' '1993' '1996' '1988' '2004' '1998'\n",
      " '1994' '2003' '1997' '1983' '1979' '1995' '1982' '1985' '1992' '1986'\n",
      " '1978' '1980' '1952' '1987' '1990' '1981' '1989' '1984' '0' '1968' '1961'\n",
      " '1958' '1974' '1976' '1971' '1977' '1975' '1965' '1941' '1970' '1962'\n",
      " '1973' '1972' '1960' '1966' '1920' '1956' '1959' '1953' '1951' '1942'\n",
      " '1963' '1964' '1969' '1954' '1950' '1967' '2005' '1957' '1940' '1937'\n",
      " '1955' '1946' '1936' '1930' '2011' '1925' '1948' '1943' '1947' '1945'\n",
      " '1923' '2020' '1939' '1926' '1938' '2030' '1911' '1904' '1949' '1932'\n",
      " '1928' '1929' '1927' '1931' '1914' '2050' '1934' '1910' '1933' '1902'\n",
      " '1924' '1921' '1900' '2038' '2026' '1944' '1917' '1901' '2010' '1908'\n",
      " '1906' '1935' '1806' '2021' '2012' '2006' 2000 2003 '1909' '2008' '1378'\n",
      " '1919' '1922' '1897' '2024' '1376' '2037']\n"
     ]
    }
   ],
   "source": [
    "print(books['Year-Of-Publication'].unique())\n",
    "\n",
    "#Fix values==0, values>2024"
   ]
  },
  {
   "cell_type": "code",
   "execution_count": 16,
   "id": "77be4c4b-eb5b-4c44-a0ec-b80e9c96de3b",
   "metadata": {
    "tags": []
   },
   "outputs": [
    {
     "name": "stdout",
     "output_type": "stream",
     "text": [
      "4618\n",
      "12\n"
     ]
    }
   ],
   "source": [
    "#Make Years-Of-Publication numeric, count 0 years and >2024 years\n",
    "books['Year-Of-Publication'] = pd.to_numeric(books['Year-Of-Publication'], errors='coerce')\n",
    "\n",
    "\n",
    "print((books['Year-Of-Publication'] == 0).sum())\n",
    "print((books['Year-Of-Publication'] > 2024).sum())"
   ]
  },
  {
   "cell_type": "code",
   "execution_count": 17,
   "id": "b39dca4d-622e-4537-a9cc-8000dc681f6c",
   "metadata": {
    "tags": []
   },
   "outputs": [
    {
     "name": "stdout",
     "output_type": "stream",
     "text": [
      "681\n",
      "[2002.  2001.  1991.  1999.  2000.  1993.  1996.  1988.  2004.  1998.\n",
      " 1994.  2003.  1997.  1983.  1979.  1995.  1982.  1985.  1992.  1986.\n",
      " 1978.  1980.  1952.  1987.  1990.  1981.  1989.  1984.  1997.5 1968.\n",
      " 1961.  1998.5 1958.  1974.  1976.  1971.  1977.  1975.  1965.  1941.\n",
      " 1970.  1962.  1973.  1985.5 1972.     nan 1960.  1994.5 1966.  1920.\n",
      " 1984.5 1956.  1959.  1983.5 1953.  1951.  1942.  1963.  1964.  1969.\n",
      " 1954.  1950.  1967.  2005.  1995.5 1957.  1991.5 1940.  1937.  1993.5\n",
      " 1955.  1992.5 1990.5 1946.  1936.  1930.  2011.  1925.  1948.  1943.\n",
      " 1988.5 1947.  1945.  1923.  1979.5 2020.  1970.5 1939.  1926.  1938.\n",
      " 1982.5 1987.5 2000.5 1911.  1904.  1949.  1932.  1928.  1929.  1986.5\n",
      " 1927.  1931.  1914.  1934.  1910.  2001.5 1996.5 1933.  1902.  1924.\n",
      " 1921.  1999.5 1900.  1944.  1917.  1901.  1989.5 2010.  1908.  1906.\n",
      " 1935.  1806.  1973.5 2021.  2012.  2006.  1909.  2008.  1378.  1919.\n",
      " 1922.  1897.  2024.  1376.  1976.5]\n"
     ]
    }
   ],
   "source": [
    "import numpy as np\n",
    "\n",
    "# Replace invalid years, years == 0, and years > 2024 with nan\n",
    "books['Year-Of-Publication'] = books['Year-Of-Publication'].replace(0, np.nan)\n",
    "books.loc[books['Year-Of-Publication'] > 2024, 'Year-Of-Publication'] = np.nan\n",
    "\n",
    "\n",
    "def fillna_median(series):\n",
    "    if series.isna().all():\n",
    "        return series\n",
    "    else:\n",
    "        return series.fillna(series.median())\n",
    "\n",
    "#Make series from publisher Years-Of-Publication -> fill na values with median\n",
    "books['Year-Of-Publication'] = books.groupby('Publisher')['Year-Of-Publication'].transform(fillna_median)\n",
    "\n",
    "\n",
    "print(books['Year-Of-Publication'].isna().sum())\n",
    "print(books['Year-Of-Publication'].unique())\n"
   ]
  },
  {
   "cell_type": "code",
   "execution_count": 18,
   "id": "630f9390-2abe-450f-b079-427385d5e31b",
   "metadata": {},
   "outputs": [
    {
     "name": "stdout",
     "output_type": "stream",
     "text": [
      "252\n",
      "[2002.  2001.  1991.  1999.  2000.  1993.  1996.  1988.  2004.  1998.\n",
      " 1994.  2003.  1997.  1983.  1979.  1995.  1982.  1985.  1992.  1986.\n",
      " 1978.  1980.  1952.  1987.  1990.  1981.  1989.  1984.  1997.5 1968.\n",
      " 1961.  1998.5 1958.  1974.  1976.  1971.  1977.  1975.  1965.  1941.\n",
      " 1970.  1962.  1973.  1985.5 1972.     nan 1960.  1994.5 1966.  1920.\n",
      " 1984.5 1956.  1959.  1983.5 1953.  1951.  1942.  1963.  1964.  1969.\n",
      " 1954.  1950.  1967.  2005.  1995.5 1957.  1999.5 1991.5 1940.  1937.\n",
      " 1993.5 1955.  1992.5 1990.5 1946.  1936.  1930.  2011.  1925.  1948.\n",
      " 1943.  1988.5 1947.  1945.  1923.  1979.5 2020.  1970.5 1939.  1926.\n",
      " 1938.  1982.5 1987.5 2000.5 1911.  1904.  1996.5 1949.  1932.  1928.\n",
      " 1929.  1986.5 1927.  1931.  1914.  1934.  1910.  2001.5 1933.  1902.\n",
      " 1924.  1921.  1900.  1989.5 1944.  1917.  1901.  2010.  1908.  1906.\n",
      " 1935.  1806.  2002.5 1973.5 2021.  2012.  2006.  1909.  2008.  1378.\n",
      " 1919.  1922.  1897.  2024.  1376.  1976.5]\n"
     ]
    }
   ],
   "source": [
    "#Make series from Book-Author Years-Of-Publication -> fill na values with median\n",
    "books['Year-Of-Publication'] = books.groupby('Book-Author')['Year-Of-Publication'].transform(fillna_median)\n",
    "\n",
    "print(books['Year-Of-Publication'].isna().sum())\n",
    "print(books['Year-Of-Publication'].unique())"
   ]
  },
  {
   "cell_type": "code",
   "execution_count": 19,
   "id": "74d4b59d-4404-4297-9604-5528dd5d7383",
   "metadata": {
    "tags": []
   },
   "outputs": [
    {
     "name": "stdout",
     "output_type": "stream",
     "text": [
      "0\n"
     ]
    }
   ],
   "source": [
    "#Replace remaining Year-Of-Publication with global median\n",
    "correct_years = books[(books['Year-Of-Publication'] > 0) & (books['Year-Of-Publication'] <= 2024)]\n",
    "\n",
    "median = correct_years['Year-Of-Publication'].median()\n",
    "\n",
    "books['Year-Of-Publication'] = books['Year-Of-Publication'].apply(\n",
    "    lambda x: median if pd.isna(x) or x == 0 or x > 2024 else x\n",
    ")\n",
    "\n",
    "print(books['Year-Of-Publication'].isna().sum())"
   ]
  },
  {
   "cell_type": "code",
   "execution_count": 20,
   "id": "b4a92eab-ca82-4cb7-b314-f0a3406ac13c",
   "metadata": {
    "tags": []
   },
   "outputs": [
    {
     "name": "stdout",
     "output_type": "stream",
     "text": [
      "[2002 2001 1991 1999 2000 1993 1996 1988 2004 1998 1994 2003 1997 1983\n",
      " 1979 1995 1982 1985 1992 1986 1978 1980 1952 1987 1990 1981 1989 1984\n",
      " 1968 1961 1958 1974 1976 1971 1977 1975 1965 1941 1970 1962 1973 1972\n",
      " 1960 1966 1920 1956 1959 1953 1951 1942 1963 1964 1969 1954 1950 1967\n",
      " 2005 1957 1940 1937 1955 1946 1936 1930 2011 1925 1948 1943 1947 1945\n",
      " 1923 2020 1939 1926 1938 1911 1904 1949 1932 1928 1929 1927 1931 1914\n",
      " 1934 1910 1933 1902 1924 1921 1900 1944 1917 1901 2010 1908 1906 1935\n",
      " 1806 2021 2012 2006 1909 2008 1378 1919 1922 1897 2024 1376]\n"
     ]
    }
   ],
   "source": [
    "#Change data type to int\n",
    "books['Year-Of-Publication'] = books['Year-Of-Publication'].astype(int)\n",
    "\n",
    "print(books['Year-Of-Publication'].unique())"
   ]
  },
  {
   "cell_type": "code",
   "execution_count": 21,
   "id": "0774d3ae-c26c-4244-8f63-8a0c8db06614",
   "metadata": {
    "tags": []
   },
   "outputs": [
    {
     "data": {
      "text/html": [
       "<div>\n",
       "<style scoped>\n",
       "    .dataframe tbody tr th:only-of-type {\n",
       "        vertical-align: middle;\n",
       "    }\n",
       "\n",
       "    .dataframe tbody tr th {\n",
       "        vertical-align: top;\n",
       "    }\n",
       "\n",
       "    .dataframe thead th {\n",
       "        text-align: right;\n",
       "    }\n",
       "</style>\n",
       "<table border=\"1\" class=\"dataframe\">\n",
       "  <thead>\n",
       "    <tr style=\"text-align: right;\">\n",
       "      <th></th>\n",
       "      <th>ISBN</th>\n",
       "      <th>Book-Title</th>\n",
       "      <th>Book-Author</th>\n",
       "      <th>Year-Of-Publication</th>\n",
       "      <th>Publisher</th>\n",
       "    </tr>\n",
       "  </thead>\n",
       "  <tbody>\n",
       "    <tr>\n",
       "      <th>0</th>\n",
       "      <td>0195153448</td>\n",
       "      <td>CLASSICAL MYTHOLOGY</td>\n",
       "      <td>MARK P. O. MORFORD</td>\n",
       "      <td>2002</td>\n",
       "      <td>OXFORD UNIVERSITY PRESS</td>\n",
       "    </tr>\n",
       "  </tbody>\n",
       "</table>\n",
       "</div>"
      ],
      "text/plain": [
       "         ISBN           Book-Title         Book-Author  Year-Of-Publication  \\\n",
       "0  0195153448  CLASSICAL MYTHOLOGY  MARK P. O. MORFORD                 2002   \n",
       "\n",
       "                 Publisher  \n",
       "0  OXFORD UNIVERSITY PRESS  "
      ]
     },
     "execution_count": 21,
     "metadata": {},
     "output_type": "execute_result"
    }
   ],
   "source": [
    "books.head(1)"
   ]
  },
  {
   "cell_type": "code",
   "execution_count": 22,
   "id": "45826e14-518e-42e4-8711-cc4f7cc24fae",
   "metadata": {
    "tags": []
   },
   "outputs": [
    {
     "data": {
      "text/html": [
       "<div>\n",
       "<style scoped>\n",
       "    .dataframe tbody tr th:only-of-type {\n",
       "        vertical-align: middle;\n",
       "    }\n",
       "\n",
       "    .dataframe tbody tr th {\n",
       "        vertical-align: top;\n",
       "    }\n",
       "\n",
       "    .dataframe thead th {\n",
       "        text-align: right;\n",
       "    }\n",
       "</style>\n",
       "<table border=\"1\" class=\"dataframe\">\n",
       "  <thead>\n",
       "    <tr style=\"text-align: right;\">\n",
       "      <th></th>\n",
       "      <th>ISBN</th>\n",
       "      <th>Book-Title</th>\n",
       "      <th>Book-Author</th>\n",
       "      <th>Year-Of-Publication</th>\n",
       "      <th>Publisher</th>\n",
       "    </tr>\n",
       "  </thead>\n",
       "  <tbody>\n",
       "    <tr>\n",
       "      <th>6635</th>\n",
       "      <td>002542730X</td>\n",
       "      <td>POLITICALLY CORRECT BEDTIME STORIES: MODERN TA...</td>\n",
       "      <td>JAMES FINN GARNER</td>\n",
       "      <td>1994</td>\n",
       "      <td>JOHN WILEY &amp;AMP; SONS INC</td>\n",
       "    </tr>\n",
       "    <tr>\n",
       "      <th>11925</th>\n",
       "      <td>014062080X</td>\n",
       "      <td>THE SCARLET LETTER (PENGUIN POPULAR CLASSICS)</td>\n",
       "      <td>NATHANIEL HAWTHORNE</td>\n",
       "      <td>1994</td>\n",
       "      <td>PENGUIN BOOKS LTD</td>\n",
       "    </tr>\n",
       "    <tr>\n",
       "      <th>16298</th>\n",
       "      <td>097089726X</td>\n",
       "      <td>JASPER</td>\n",
       "      <td>MICHELLE GROCE</td>\n",
       "      <td>2003</td>\n",
       "      <td>NOVELLO FESTIVAL PRESS</td>\n",
       "    </tr>\n",
       "    <tr>\n",
       "      <th>19266</th>\n",
       "      <td>039592720X</td>\n",
       "      <td>INTERPRETER OF MALADIES</td>\n",
       "      <td>JHUMPA LAHIRI</td>\n",
       "      <td>1999</td>\n",
       "      <td>HOUGHTON MIFFLIN CO</td>\n",
       "    </tr>\n",
       "    <tr>\n",
       "      <th>22339</th>\n",
       "      <td>042512164X</td>\n",
       "      <td>CAPITAL CRIMES</td>\n",
       "      <td>LAWRENCE SANDERS</td>\n",
       "      <td>2000</td>\n",
       "      <td>BERKLEY PUBLISHING GROUP</td>\n",
       "    </tr>\n",
       "    <tr>\n",
       "      <th>...</th>\n",
       "      <td>...</td>\n",
       "      <td>...</td>\n",
       "      <td>...</td>\n",
       "      <td>...</td>\n",
       "      <td>...</td>\n",
       "    </tr>\n",
       "    <tr>\n",
       "      <th>267020</th>\n",
       "      <td>088404632X</td>\n",
       "      <td>DIANETICS: THE MODERN SCIENCE OF MENTAL HEALTH</td>\n",
       "      <td>L. RON HUBBARD</td>\n",
       "      <td>1995</td>\n",
       "      <td>BRIDGE PUBLICATIONS (CA)</td>\n",
       "    </tr>\n",
       "    <tr>\n",
       "      <th>269297</th>\n",
       "      <td>055215038X</td>\n",
       "      <td>THE SLEEPER</td>\n",
       "      <td>GILLIAN WHITE</td>\n",
       "      <td>2003</td>\n",
       "      <td>CORGI BOOKS</td>\n",
       "    </tr>\n",
       "    <tr>\n",
       "      <th>269552</th>\n",
       "      <td>037376099X</td>\n",
       "      <td>PATIENT NURSE  (MAN OF THE MONTH) (HARLEQUIN D...</td>\n",
       "      <td>DIANA PALMER</td>\n",
       "      <td>1997</td>\n",
       "      <td>SILHOUETTE</td>\n",
       "    </tr>\n",
       "    <tr>\n",
       "      <th>270285</th>\n",
       "      <td>189481505X</td>\n",
       "      <td>I-O</td>\n",
       "      <td>SIMON LOGAN</td>\n",
       "      <td>2002</td>\n",
       "      <td>PRIME (OH)</td>\n",
       "    </tr>\n",
       "    <tr>\n",
       "      <th>270483</th>\n",
       "      <td>039304632X</td>\n",
       "      <td>THE VOYAGE OF THE NARWHAL</td>\n",
       "      <td>ANDREA BARRETT</td>\n",
       "      <td>1998</td>\n",
       "      <td>W W NORTON &amp;AMP; CO INC</td>\n",
       "    </tr>\n",
       "  </tbody>\n",
       "</table>\n",
       "<p>313 rows × 5 columns</p>\n",
       "</div>"
      ],
      "text/plain": [
       "              ISBN                                         Book-Title  \\\n",
       "6635    002542730X  POLITICALLY CORRECT BEDTIME STORIES: MODERN TA...   \n",
       "11925   014062080X      THE SCARLET LETTER (PENGUIN POPULAR CLASSICS)   \n",
       "16298   097089726X                                             JASPER   \n",
       "19266   039592720X                            INTERPRETER OF MALADIES   \n",
       "22339   042512164X                                     CAPITAL CRIMES   \n",
       "...            ...                                                ...   \n",
       "267020  088404632X     DIANETICS: THE MODERN SCIENCE OF MENTAL HEALTH   \n",
       "269297  055215038X                                        THE SLEEPER   \n",
       "269552  037376099X  PATIENT NURSE  (MAN OF THE MONTH) (HARLEQUIN D...   \n",
       "270285  189481505X                                                I-O   \n",
       "270483  039304632X                          THE VOYAGE OF THE NARWHAL   \n",
       "\n",
       "                Book-Author  Year-Of-Publication                  Publisher  \n",
       "6635      JAMES FINN GARNER                 1994  JOHN WILEY &AMP; SONS INC  \n",
       "11925   NATHANIEL HAWTHORNE                 1994          PENGUIN BOOKS LTD  \n",
       "16298        MICHELLE GROCE                 2003     NOVELLO FESTIVAL PRESS  \n",
       "19266         JHUMPA LAHIRI                 1999        HOUGHTON MIFFLIN CO  \n",
       "22339      LAWRENCE SANDERS                 2000   BERKLEY PUBLISHING GROUP  \n",
       "...                     ...                  ...                        ...  \n",
       "267020       L. RON HUBBARD                 1995   BRIDGE PUBLICATIONS (CA)  \n",
       "269297        GILLIAN WHITE                 2003                CORGI BOOKS  \n",
       "269552         DIANA PALMER                 1997                 SILHOUETTE  \n",
       "270285          SIMON LOGAN                 2002                 PRIME (OH)  \n",
       "270483       ANDREA BARRETT                 1998    W W NORTON &AMP; CO INC  \n",
       "\n",
       "[313 rows x 5 columns]"
      ]
     },
     "execution_count": 22,
     "metadata": {},
     "output_type": "execute_result"
    }
   ],
   "source": [
    "books[books.duplicated()]"
   ]
  },
  {
   "cell_type": "code",
   "execution_count": 23,
   "id": "c3b39f39-e76d-42f2-972a-1881fb19fdb6",
   "metadata": {
    "tags": []
   },
   "outputs": [],
   "source": [
    "#Remove duplicate rows, reset index\n",
    "books.drop_duplicates(keep=\"first\", inplace=True)\n",
    "books.reset_index(drop=True,inplace=True)   "
   ]
  },
  {
   "cell_type": "code",
   "execution_count": 24,
   "id": "a6951fa4-63f8-41a5-a9cd-7c26de9180eb",
   "metadata": {
    "tags": []
   },
   "outputs": [
    {
     "data": {
      "text/html": [
       "<div>\n",
       "<style scoped>\n",
       "    .dataframe tbody tr th:only-of-type {\n",
       "        vertical-align: middle;\n",
       "    }\n",
       "\n",
       "    .dataframe tbody tr th {\n",
       "        vertical-align: top;\n",
       "    }\n",
       "\n",
       "    .dataframe thead th {\n",
       "        text-align: right;\n",
       "    }\n",
       "</style>\n",
       "<table border=\"1\" class=\"dataframe\">\n",
       "  <thead>\n",
       "    <tr style=\"text-align: right;\">\n",
       "      <th></th>\n",
       "      <th>ISBN</th>\n",
       "      <th>Book-Title</th>\n",
       "      <th>Book-Author</th>\n",
       "      <th>Year-Of-Publication</th>\n",
       "      <th>Publisher</th>\n",
       "    </tr>\n",
       "  </thead>\n",
       "  <tbody>\n",
       "  </tbody>\n",
       "</table>\n",
       "</div>"
      ],
      "text/plain": [
       "Empty DataFrame\n",
       "Columns: [ISBN, Book-Title, Book-Author, Year-Of-Publication, Publisher]\n",
       "Index: []"
      ]
     },
     "execution_count": 24,
     "metadata": {},
     "output_type": "execute_result"
    }
   ],
   "source": [
    "books[books.duplicated()]"
   ]
  },
  {
   "cell_type": "code",
   "execution_count": null,
   "id": "a7efcbd7-a4c3-45f4-9ca0-bf42b75e0a97",
   "metadata": {},
   "outputs": [],
   "source": []
  }
 ],
 "metadata": {
  "environment": {
   "kernel": "python3",
   "name": "tf2-cpu.2-11.m124",
   "type": "gcloud",
   "uri": "us-docker.pkg.dev/deeplearning-platform-release/gcr.io/tf2-cpu.2-11:m124"
  },
  "kernelspec": {
   "display_name": "Python 3 (Local)",
   "language": "python",
   "name": "python3"
  },
  "language_info": {
   "codemirror_mode": {
    "name": "ipython",
    "version": 3
   },
   "file_extension": ".py",
   "mimetype": "text/x-python",
   "name": "python",
   "nbconvert_exporter": "python",
   "pygments_lexer": "ipython3",
   "version": "3.10.14"
  }
 },
 "nbformat": 4,
 "nbformat_minor": 5
}
